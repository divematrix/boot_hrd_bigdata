{
 "cells": [
  {
   "cell_type": "code",
   "execution_count": null,
   "id": "6fe5692c",
   "metadata": {},
   "outputs": [],
   "source": [
    "import matplotlib.pyplot as plt\n",
    "import numpy as np"
   ]
  },
  {
   "cell_type": "code",
   "execution_count": null,
   "id": "61c9e14b",
   "metadata": {},
   "outputs": [],
   "source": [
    "# 단순한 그래프 그리기\n",
    "\n",
    "# 데이터 준비\n",
    "x = np.arange(0, 6, 0.1)\n",
    "print(x)\n",
    "y1 = np.sin(x)\n",
    "y2 = np.cos(x)"
   ]
  },
  {
   "cell_type": "code",
   "execution_count": null,
   "id": "929c1071",
   "metadata": {},
   "outputs": [],
   "source": [
    "# 그래프 그리기\n",
    "plt.plot(x,y1,label=\"sin\")\n",
    "plt.plot(x,y2, linestyle=\"--\", label=\"cos\") # cos 함수는 점선으로 그리기.\n",
    "plt.xlabel(\"x\") # x축 이름\n",
    "plt.ylabel(\"y\") # y축 이름\n",
    "plt.title(\"sin & cos\") # 제목\n",
    "plt.legend() # 범례\n",
    "plt.show()"
   ]
  },
  {
   "cell_type": "code",
   "execution_count": null,
   "id": "75cb2ab2",
   "metadata": {},
   "outputs": [],
   "source": [
    "np.random.seed(1234) # 난수를 고정.\n",
    "x = np.arange(10)\n",
    "y = np.random.rand(10)\n",
    "\n",
    "plt.plot(x,y) # 꺽은선 그래프를 등록\n",
    "plt.show()    # 그래프 그리기"
   ]
  },
  {
   "cell_type": "code",
   "execution_count": null,
   "id": "701d4950",
   "metadata": {},
   "outputs": [],
   "source": [
    "# 3차 함수 f(x)=(x-2)x(x+2)\n",
    "def f(x):\n",
    "    return (x-2) * x * (x+2)\n",
    "\n",
    "print(f(0))  # 0\n",
    "print(f(2))  # 0\n",
    "print(f(-2)) # 0"
   ]
  },
  {
   "cell_type": "code",
   "execution_count": null,
   "id": "be399079",
   "metadata": {},
   "outputs": [],
   "source": [
    "# x값에 대해 ndarray 배열이며 각각에 대응한 f를 한꺼번에 ndarray로\n",
    "# 돌려줍니다.\n",
    "print(f(np.array([1,2,3]))) # [-3  0 15]\n",
    "print(type(f(np.array([1,2,3])))) # <class 'numpy.ndarray'>\n"
   ]
  },
  {
   "cell_type": "code",
   "execution_count": null,
   "id": "48234765",
   "metadata": {},
   "outputs": [],
   "source": [
    "# 그래프를 그리는 x의 범위를 -3 ~ 3까지로 하고, 간격 0.1\n",
    "x = np.arange(-3,3.5,0.1)\n",
    "#print(x)\n",
    "plt.plot(x, f(x))\n",
    "plt.show()"
   ]
  },
  {
   "cell_type": "code",
   "execution_count": null,
   "id": "59becba1",
   "metadata": {},
   "outputs": [],
   "source": [
    "# 그래프를 장식\n",
    "def f2(x,w):\n",
    "    return (x-w) * x * (x+2) # 함수 정의"
   ]
  },
  {
   "cell_type": "code",
   "execution_count": null,
   "id": "ac1dae34",
   "metadata": {},
   "outputs": [],
   "source": [
    "# x를 정의\n",
    "x = np.linspace(-3,3,100) # x를 100 분할하기\n",
    "print(x)"
   ]
  },
  {
   "cell_type": "code",
   "execution_count": null,
   "id": "41a3cb9c",
   "metadata": {},
   "outputs": [],
   "source": [
    "# 차트묘사\n",
    "plt.plot(x, f2(x,2), color='black', label='$w=2$')\n",
    "plt.plot(x, f2(x,1), color='blue', label='$w=1$')\n",
    "plt.legend(loc=\"upper left\")\n",
    "plt.ylim(-15, 15) # y축 범위\n",
    "plt.title(\"$f_2(x)$\")\n",
    "plt.xlabel('$x$')\n",
    "plt.xlabel('$y$')\n",
    "plt.grid(True) # 그리드(눈금)\n",
    "plt.show()"
   ]
  },
  {
   "cell_type": "code",
   "execution_count": null,
   "id": "6cdf400a",
   "metadata": {},
   "outputs": [],
   "source": [
    "\"\"\"\n",
    "# 참조 : 색상\n",
    "import matplotlib\n",
    "\n",
    "print(matplotlib.colors.cnames) # 색상 이름\n",
    "\"\"\""
   ]
  },
  {
   "cell_type": "code",
   "execution_count": null,
   "id": "f2352e1f",
   "metadata": {},
   "outputs": [],
   "source": [
    "\n",
    "# 그래프를 여러 개 보여주기\n",
    "plt.figure(figsize=(10,3)) # 전체 영역의 크기를 지정\n",
    "plt.subplots_adjust(wspace=0.5, hspace=0.5) # 그래프의 간격을 지정\n",
    "for i in range(6):\n",
    "    plt.subplot(2,3,i+1) # 그래프 위치를 지정\n",
    "    plt.title(i+1)\n",
    "    plt.plot(x, f2(x,i))\n",
    "    plt.ylim(-20, 20)\n",
    "    plt.grid(True)\n",
    "\n",
    "plt.show()"
   ]
  },
  {
   "cell_type": "code",
   "execution_count": null,
   "id": "9351f80f",
   "metadata": {},
   "outputs": [],
   "source": [
    "# 이미지 표시하기\n",
    "from matplotlib.image import imread\n",
    "\n",
    "img = imread('image/fig1.png') # 이미지 읽어오기\n",
    "\n",
    "plt.imshow(img)\n",
    "plt.show()"
   ]
  }
 ],
 "metadata": {
  "kernelspec": {
   "display_name": "Python 3 (ipykernel)",
   "language": "python",
   "name": "python3"
  },
  "language_info": {
   "codemirror_mode": {
    "name": "ipython",
    "version": 3
   },
   "file_extension": ".py",
   "mimetype": "text/x-python",
   "name": "python",
   "nbconvert_exporter": "python",
   "pygments_lexer": "ipython3",
   "version": "3.8.12"
  }
 },
 "nbformat": 4,
 "nbformat_minor": 5
}
