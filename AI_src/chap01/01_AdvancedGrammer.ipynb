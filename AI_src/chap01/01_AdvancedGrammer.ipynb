{
 "cells": [
  {
   "cell_type": "markdown",
   "id": "8822825f",
   "metadata": {},
   "source": [
    "# 데이터 분석에 유용한 기능들...\n",
    "## - list comprehension 기본 구조"
   ]
  },
  {
   "cell_type": "code",
   "execution_count": 14,
   "id": "b1c012cd",
   "metadata": {},
   "outputs": [],
   "source": [
    "numbers = [1, 2, 3, 4, 5]\n",
    "square1 = []"
   ]
  },
  {
   "cell_type": "code",
   "execution_count": 15,
   "id": "2c88b577",
   "metadata": {},
   "outputs": [
    {
     "data": {
      "text/plain": [
       "[1, 4, 9, 16, 25]"
      ]
     },
     "execution_count": 15,
     "metadata": {},
     "output_type": "execute_result"
    }
   ],
   "source": [
    "for i in numbers:\n",
    "    square1.append(i ** 2)\n",
    "    \n",
    "square1"
   ]
  },
  {
   "cell_type": "code",
   "execution_count": 16,
   "id": "e7d202dc",
   "metadata": {},
   "outputs": [
    {
     "data": {
      "text/plain": [
       "[1, 4, 9, 16, 25]"
      ]
     },
     "execution_count": 16,
     "metadata": {},
     "output_type": "execute_result"
    }
   ],
   "source": [
    "square2 = [i ** 2 for i in numbers]\n",
    "square2"
   ]
  },
  {
   "cell_type": "code",
   "execution_count": 17,
   "id": "9d26c8ee",
   "metadata": {},
   "outputs": [
    {
     "data": {
      "text/plain": [
       "[9, 16, 25]"
      ]
     },
     "execution_count": 17,
     "metadata": {},
     "output_type": "execute_result"
    }
   ],
   "source": [
    "square3 = []\n",
    "\n",
    "for i in numbers:\n",
    "    if i >= 3:\n",
    "        square3.append(i ** 2)\n",
    "        \n",
    "square3"
   ]
  },
  {
   "cell_type": "code",
   "execution_count": 18,
   "id": "969b88eb",
   "metadata": {},
   "outputs": [
    {
     "data": {
      "text/plain": [
       "[9, 16, 25]"
      ]
     },
     "execution_count": 18,
     "metadata": {},
     "output_type": "execute_result"
    }
   ],
   "source": [
    "square4 = [i ** 2 for i in numbers if i >= 3]\n",
    "square4"
   ]
  },
  {
   "cell_type": "markdown",
   "id": "f4cc5ef2",
   "metadata": {},
   "source": [
    "## - split(구분자) : 구분자로 구분, 기본값은 공백"
   ]
  },
  {
   "cell_type": "code",
   "execution_count": 19,
   "id": "a37320eb",
   "metadata": {},
   "outputs": [
    {
     "data": {
      "text/plain": [
       "['the', 'joeun', 'IT', 'computer', 'with', 'python']"
      ]
     },
     "execution_count": 19,
     "metadata": {},
     "output_type": "execute_result"
    }
   ],
   "source": [
    "test_text = \"the-joeun-IT-computer-with-python\"\n",
    "result = test_text.split('-')\n",
    "result # list"
   ]
  },
  {
   "cell_type": "markdown",
   "id": "3d2000d0",
   "metadata": {},
   "source": [
    "### - 구분자.join(리스트) : split 함수와 반대로 구분자로 붙인다."
   ]
  },
  {
   "cell_type": "code",
   "execution_count": 20,
   "id": "e46f2481",
   "metadata": {},
   "outputs": [
    {
     "data": {
      "text/plain": [
       "['the', 'joeun', 'IT', 'computer', 'with', 'python']"
      ]
     },
     "execution_count": 20,
     "metadata": {},
     "output_type": "execute_result"
    }
   ],
   "source": [
    "test_text = ['the', 'joeun', 'IT', 'computer', 'with', 'python']\n",
    "test_text"
   ]
  },
  {
   "cell_type": "code",
   "execution_count": 21,
   "id": "07355c33",
   "metadata": {},
   "outputs": [
    {
     "data": {
      "text/plain": [
       "'the-joeun-IT-computer-with-python'"
      ]
     },
     "execution_count": 21,
     "metadata": {},
     "output_type": "execute_result"
    }
   ],
   "source": [
    "result = '-'.join(test_text)\n",
    "result"
   ]
  },
  {
   "cell_type": "markdown",
   "id": "259b769b",
   "metadata": {},
   "source": [
    "### - split()와 join()의 응용"
   ]
  },
  {
   "cell_type": "code",
   "execution_count": 22,
   "id": "12fe3cf6",
   "metadata": {},
   "outputs": [
    {
     "data": {
      "text/plain": [
       "'345-234-6789'"
      ]
     },
     "execution_count": 22,
     "metadata": {},
     "output_type": "execute_result"
    }
   ],
   "source": [
    "result = '-'.join('345.234.6789'.split('.'))\n",
    "result\n",
    "# replaceAll() 로 대체 가능"
   ]
  },
  {
   "cell_type": "markdown",
   "id": "e484249a",
   "metadata": {},
   "source": [
    "### - enumerate(list) : 인덱스와 값을 함께 반환"
   ]
  },
  {
   "cell_type": "code",
   "execution_count": 23,
   "id": "6d2402bf",
   "metadata": {},
   "outputs": [
    {
     "name": "stdout",
     "output_type": "stream",
     "text": [
      "0 a\n",
      "1 b\n",
      "2 c\n",
      "3 d\n"
     ]
    }
   ],
   "source": [
    "for i, name in enumerate(['a', 'b', 'c', 'd']):\n",
    "    print(i, name)"
   ]
  },
  {
   "cell_type": "code",
   "execution_count": 24,
   "id": "513bff6d",
   "metadata": {},
   "outputs": [
    {
     "data": {
      "text/plain": [
       "{0: 'mon', 1: 'tue', 2: 'wed', 3: 'thu', 4: 'fri', 5: 'sat', 6: 'sun'}"
      ]
     },
     "execution_count": 24,
     "metadata": {},
     "output_type": "execute_result"
    }
   ],
   "source": [
    "seq = ['mon', 'tue', 'wed', 'thu','fri', 'sat', 'sun']\n",
    "dict(enumerate(seq))"
   ]
  },
  {
   "cell_type": "code",
   "execution_count": 25,
   "id": "49ddc40b",
   "metadata": {},
   "outputs": [
    {
     "data": {
      "text/plain": [
       "{'a': 'mon',\n",
       " 'b': 'tue',\n",
       " 'c': 'wed',\n",
       " 'd': 'thu',\n",
       " 'e': 'fri',\n",
       " 'f': 'sat',\n",
       " 'g': 'sun'}"
      ]
     },
     "execution_count": 25,
     "metadata": {},
     "output_type": "execute_result"
    }
   ],
   "source": [
    "key_seq = 'abcdefg'\n",
    "value_seq = ['mon', 'tue', 'wed', 'thu','fri', 'sat', 'sun']\n",
    "dict(zip(key_seq, value_seq))"
   ]
  },
  {
   "cell_type": "markdown",
   "id": "375ee9f6",
   "metadata": {},
   "source": [
    "### - List comprehesion - 리스트 변환하는 표현식으로 유용한 기능"
   ]
  },
  {
   "cell_type": "code",
   "execution_count": 26,
   "id": "3df79b5e",
   "metadata": {},
   "outputs": [
    {
     "name": "stdout",
     "output_type": "stream",
     "text": [
      "['mon', 'tue', 'wed', 'thu', 'fri', 'sat', 'sun']\n"
     ]
    }
   ],
   "source": [
    "day = ['mon', 'tue', 'wed', 'thu','fri', 'sat', 'sun']\n",
    "print([x for x in day])"
   ]
  },
  {
   "cell_type": "code",
   "execution_count": 27,
   "id": "4ebc0cab",
   "metadata": {},
   "outputs": [
    {
     "name": "stdout",
     "output_type": "stream",
     "text": [
      "[35, 56, 45, 27, 8]\n"
     ]
    }
   ],
   "source": [
    "data = [35, 56, -53, 45, 27, -28, 8, -12]\n",
    "print([x for x in data if x >= 0])"
   ]
  },
  {
   "cell_type": "code",
   "execution_count": 28,
   "id": "c09e3b41",
   "metadata": {},
   "outputs": [
    {
     "name": "stdout",
     "output_type": "stream",
     "text": [
      "[1225, 3136, 2025, 729, 64]\n"
     ]
    }
   ],
   "source": [
    "data = [35, 56, -53, 45, 27, -28, 8, -12]\n",
    "print([x**2 for x in data if x >= 0])"
   ]
  },
  {
   "cell_type": "markdown",
   "id": "d4a74b46",
   "metadata": {},
   "source": [
    "## Counter를 이용한 카운팅\n",
    "### - Countsms 아이템의 갯수를 자동으로 카운팅."
   ]
  },
  {
   "cell_type": "code",
   "execution_count": 29,
   "id": "90207b66",
   "metadata": {},
   "outputs": [],
   "source": [
    "from collections import Counter"
   ]
  },
  {
   "cell_type": "code",
   "execution_count": 30,
   "id": "6fb42e98",
   "metadata": {},
   "outputs": [],
   "source": [
    "message = \"\"\"\n",
    "But I must explain to you how all this mistaken idea of denouncing pleasure and \n",
    "praising pain was born and I will give you a complete account of the system, and \n",
    "expound the actual teachings of the great explorer of the truth, the master-builder \n",
    "of human happiness. No one rejects, dislikes, or avoids pleasure itself, because \n",
    "it is pleasure, but because those who do not know how to pursue pleasure rationally \n",
    "encounter consequences that are extremely painful. Nor again is there anyone who loves\n",
    "or pursues or desires to obtain pain of itself, because it is pain, but because \n",
    "occasionally circumstances occur in which toil and pain can procure him some great \n",
    "pleasure. To take a trivial example, which of us ever undertakes laborious physical \n",
    "exercise, except to obtain some advantage from it? But who has any right to find \n",
    "fault with a man who chooses to enjoy a pleasure that has no annoying consequences, \n",
    "or one who avoids a pain that produces no resultant pleasure?\n",
    "\"\"\""
   ]
  },
  {
   "cell_type": "code",
   "execution_count": 31,
   "id": "d4695668",
   "metadata": {},
   "outputs": [
    {
     "name": "stdout",
     "output_type": "stream",
     "text": [
      "Counter({'of': 7, 'to': 6, 'a': 5, 'the': 5, 'who': 5, 'pleasure': 4, 'and': 4, 'pain': 4, 'or': 4, 'because': 4, 'is': 3, 'that': 3, 'But': 2, 'I': 2, 'you': 2, 'how': 2, 'great': 2, 'one': 2, 'avoids': 2, 'itself,': 2, 'it': 2, 'but': 2, 'obtain': 2, 'which': 2, 'some': 2, 'has': 2, 'no': 2, 'must': 1, 'explain': 1, 'all': 1, 'this': 1, 'mistaken': 1, 'idea': 1, 'denouncing': 1, 'praising': 1, 'was': 1, 'born': 1, 'will': 1, 'give': 1, 'complete': 1, 'account': 1, 'system,': 1, 'expound': 1, 'actual': 1, 'teachings': 1, 'explorer': 1, 'truth,': 1, 'master-builder': 1, 'human': 1, 'happiness.': 1, 'No': 1, 'rejects,': 1, 'dislikes,': 1, 'pleasure,': 1, 'those': 1, 'do': 1, 'not': 1, 'know': 1, 'pursue': 1, 'rationally': 1, 'encounter': 1, 'consequences': 1, 'are': 1, 'extremely': 1, 'painful.': 1, 'Nor': 1, 'again': 1, 'there': 1, 'anyone': 1, 'loves': 1, 'pursues': 1, 'desires': 1, 'pain,': 1, 'occasionally': 1, 'circumstances': 1, 'occur': 1, 'in': 1, 'toil': 1, 'can': 1, 'procure': 1, 'him': 1, 'pleasure.': 1, 'To': 1, 'take': 1, 'trivial': 1, 'example,': 1, 'us': 1, 'ever': 1, 'undertakes': 1, 'laborious': 1, 'physical': 1, 'exercise,': 1, 'except': 1, 'advantage': 1, 'from': 1, 'it?': 1, 'any': 1, 'right': 1, 'find': 1, 'fault': 1, 'with': 1, 'man': 1, 'chooses': 1, 'enjoy': 1, 'annoying': 1, 'consequences,': 1, 'produces': 1, 'resultant': 1, 'pleasure?': 1})\n"
     ]
    }
   ],
   "source": [
    "counter = Counter(message.split())\n",
    "print(counter)"
   ]
  },
  {
   "cell_type": "code",
   "execution_count": 32,
   "id": "14c58f0d",
   "metadata": {},
   "outputs": [
    {
     "name": "stdout",
     "output_type": "stream",
     "text": [
      "<class 'collections.Counter'>\n"
     ]
    }
   ],
   "source": [
    "print(type(counter))"
   ]
  },
  {
   "cell_type": "markdown",
   "id": "bca7e5fb",
   "metadata": {},
   "source": [
    "## Counter(dict) -> list 형태로 반환."
   ]
  },
  {
   "cell_type": "code",
   "execution_count": 33,
   "id": "b0757709",
   "metadata": {},
   "outputs": [
    {
     "name": "stdout",
     "output_type": "stream",
     "text": [
      "[('of', 7), ('to', 6), ('a', 5), ('the', 5), ('who', 5), ('pleasure', 4), ('and', 4), ('pain', 4), ('or', 4), ('because', 4), ('is', 3), ('that', 3), ('But', 2), ('I', 2), ('you', 2), ('how', 2), ('great', 2), ('one', 2), ('avoids', 2), ('itself,', 2), ('it', 2), ('but', 2), ('obtain', 2), ('which', 2), ('some', 2), ('has', 2), ('no', 2), ('must', 1), ('explain', 1), ('all', 1), ('this', 1), ('mistaken', 1), ('idea', 1), ('denouncing', 1), ('praising', 1), ('was', 1), ('born', 1), ('will', 1), ('give', 1), ('complete', 1), ('account', 1), ('system,', 1), ('expound', 1), ('actual', 1), ('teachings', 1), ('explorer', 1), ('truth,', 1), ('master-builder', 1), ('human', 1), ('happiness.', 1), ('No', 1), ('rejects,', 1), ('dislikes,', 1), ('pleasure,', 1), ('those', 1), ('do', 1), ('not', 1), ('know', 1), ('pursue', 1), ('rationally', 1), ('encounter', 1), ('consequences', 1), ('are', 1), ('extremely', 1), ('painful.', 1), ('Nor', 1), ('again', 1), ('there', 1), ('anyone', 1), ('loves', 1), ('pursues', 1), ('desires', 1), ('pain,', 1), ('occasionally', 1), ('circumstances', 1), ('occur', 1), ('in', 1), ('toil', 1), ('can', 1), ('procure', 1), ('him', 1), ('pleasure.', 1), ('To', 1), ('take', 1), ('trivial', 1), ('example,', 1), ('us', 1), ('ever', 1), ('undertakes', 1), ('laborious', 1), ('physical', 1), ('exercise,', 1), ('except', 1), ('advantage', 1), ('from', 1), ('it?', 1), ('any', 1), ('right', 1), ('find', 1), ('fault', 1), ('with', 1), ('man', 1), ('chooses', 1), ('enjoy', 1), ('annoying', 1), ('consequences,', 1), ('produces', 1), ('resultant', 1), ('pleasure?', 1)]\n"
     ]
    }
   ],
   "source": [
    "print(counter.most_common())"
   ]
  },
  {
   "cell_type": "markdown",
   "id": "27302156",
   "metadata": {},
   "source": [
    "## list -> dict 형태로 변환"
   ]
  },
  {
   "cell_type": "code",
   "execution_count": 34,
   "id": "d877670b",
   "metadata": {},
   "outputs": [
    {
     "name": "stdout",
     "output_type": "stream",
     "text": [
      "{'of': 7, 'to': 6, 'a': 5, 'the': 5, 'who': 5, 'pleasure': 4, 'and': 4, 'pain': 4, 'or': 4, 'because': 4, 'is': 3, 'that': 3, 'But': 2, 'I': 2, 'you': 2, 'how': 2, 'great': 2, 'one': 2, 'avoids': 2, 'itself,': 2, 'it': 2, 'but': 2, 'obtain': 2, 'which': 2, 'some': 2, 'has': 2, 'no': 2, 'must': 1, 'explain': 1, 'all': 1, 'this': 1, 'mistaken': 1, 'idea': 1, 'denouncing': 1, 'praising': 1, 'was': 1, 'born': 1, 'will': 1, 'give': 1, 'complete': 1, 'account': 1, 'system,': 1, 'expound': 1, 'actual': 1, 'teachings': 1, 'explorer': 1, 'truth,': 1, 'master-builder': 1, 'human': 1, 'happiness.': 1, 'No': 1, 'rejects,': 1, 'dislikes,': 1, 'pleasure,': 1, 'those': 1, 'do': 1, 'not': 1, 'know': 1, 'pursue': 1, 'rationally': 1, 'encounter': 1, 'consequences': 1, 'are': 1, 'extremely': 1, 'painful.': 1, 'Nor': 1, 'again': 1, 'there': 1, 'anyone': 1, 'loves': 1, 'pursues': 1, 'desires': 1, 'pain,': 1, 'occasionally': 1, 'circumstances': 1, 'occur': 1, 'in': 1, 'toil': 1, 'can': 1, 'procure': 1, 'him': 1, 'pleasure.': 1, 'To': 1, 'take': 1, 'trivial': 1, 'example,': 1, 'us': 1, 'ever': 1, 'undertakes': 1, 'laborious': 1, 'physical': 1, 'exercise,': 1, 'except': 1, 'advantage': 1, 'from': 1, 'it?': 1, 'any': 1, 'right': 1, 'find': 1, 'fault': 1, 'with': 1, 'man': 1, 'chooses': 1, 'enjoy': 1, 'annoying': 1, 'consequences,': 1, 'produces': 1, 'resultant': 1, 'pleasure?': 1}\n"
     ]
    }
   ],
   "source": [
    "dict_msg = dict(counter.most_common())\n",
    "print(dict_msg)"
   ]
  },
  {
   "cell_type": "code",
   "execution_count": 35,
   "id": "17fc4cad",
   "metadata": {},
   "outputs": [
    {
     "name": "stdout",
     "output_type": "stream",
     "text": [
      "6\n",
      "4\n"
     ]
    }
   ],
   "source": [
    "print(dict_msg['to'])\n",
    "print(dict_msg['pain'])"
   ]
  }
 ],
 "metadata": {
  "kernelspec": {
   "display_name": "Python 3 (ipykernel)",
   "language": "python",
   "name": "python3"
  },
  "language_info": {
   "codemirror_mode": {
    "name": "ipython",
    "version": 3
   },
   "file_extension": ".py",
   "mimetype": "text/x-python",
   "name": "python",
   "nbconvert_exporter": "python",
   "pygments_lexer": "ipython3",
   "version": "3.8.12"
  }
 },
 "nbformat": 4,
 "nbformat_minor": 5
}
