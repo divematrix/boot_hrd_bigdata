{
 "cells": [
  {
   "cell_type": "markdown",
   "metadata": {},
   "source": [
    "# File Read & Write"
   ]
  },
  {
   "cell_type": "code",
   "execution_count": 2,
   "metadata": {},
   "outputs": [],
   "source": [
    "# file에 write 하기.\n",
    "file = open('test.txt', 'w')\n",
    "file.write('hello')\n",
    "file.close()"
   ]
  },
  {
   "cell_type": "code",
   "execution_count": 3,
   "metadata": {},
   "outputs": [
    {
     "name": "stdout",
     "output_type": "stream",
     "text": [
      "hello\n"
     ]
    }
   ],
   "source": [
    "# file에서 데이터 읽어오기\n",
    "file = open('test.txt', 'r')\n",
    "str = file.read()\n",
    "print(str)\n",
    "file.close()"
   ]
  },
  {
   "cell_type": "markdown",
   "metadata": {},
   "source": [
    "## with 로 파일을 열면 범위가 끝난뒤 알아서 닫아줌\n",
    "### file = open('test.txt', 'w')"
   ]
  },
  {
   "cell_type": "code",
   "execution_count": 4,
   "metadata": {},
   "outputs": [],
   "source": [
    "with open('test.txt', 'w+t') as file:\n",
    "    file.write('hello ')"
   ]
  },
  {
   "cell_type": "code",
   "execution_count": 5,
   "metadata": {},
   "outputs": [],
   "source": [
    "with open('test.txt', 'a+t') as file:\n",
    "    file.write('python ')"
   ]
  },
  {
   "cell_type": "code",
   "execution_count": 6,
   "metadata": {},
   "outputs": [
    {
     "name": "stdout",
     "output_type": "stream",
     "text": [
      "hello python \n"
     ]
    }
   ],
   "source": [
    "with open('test.txt', 'r+t') as file:\n",
    "    str = file.read()\n",
    "    print(str)"
   ]
  },
  {
   "cell_type": "markdown",
   "metadata": {},
   "source": [
    "## 텍스트 파일 읽기 / 쓰기\n",
    "### 1. 문자열을 담은 리스트를 파일에 쓰는 writelines() 메서드"
   ]
  },
  {
   "cell_type": "code",
   "execution_count": 7,
   "metadata": {},
   "outputs": [],
   "source": [
    "# ex1)\n",
    "lines = [\"we'll find a way we always have - Interstellar\\n\",\n",
    "         \"I'll find you and I'll kill you - Taken\\n\",\n",
    "         \"I'll be back - Terminator 2\\n\"]\n",
    "\n",
    "with open('movie_quotes.txt', 'w') as file:\n",
    "    for line in lines:\n",
    "        file.write(line)"
   ]
  },
  {
   "cell_type": "code",
   "execution_count": 8,
   "metadata": {},
   "outputs": [],
   "source": [
    "# ex2)\n",
    "lines = [\"we'll find a way we always have - Interstellar\\n\",\n",
    "         \"I'll find you and I'll kill you - Taken\\n\",\n",
    "         \"I'll be back - Terminator 2\\n\"]\n",
    "\n",
    "with open('movie_quotes.txt', 'w') as file:\n",
    "    file.writelines(lines)"
   ]
  },
  {
   "cell_type": "markdown",
   "metadata": {},
   "source": [
    "## 텍스트 파일 읽기 / 쓰기\n",
    "### 2. 줄 단위로 텍스트를 읽는 readline() & readlines() 메서드"
   ]
  },
  {
   "cell_type": "code",
   "execution_count": 9,
   "metadata": {},
   "outputs": [
    {
     "name": "stdout",
     "output_type": "stream",
     "text": [
      "we'll find a way we always have - Interstellar\n",
      "I'll find you and I'll kill you - Taken\n",
      "I'll be back - Terminator 2\n"
     ]
    }
   ],
   "source": [
    "with open('movie_quotes.txt', 'r') as file:\n",
    "    line = file.readline()\n",
    "\n",
    "    while line != '':\n",
    "        print(line, end='')\n",
    "        line = file.readline()"
   ]
  },
  {
   "cell_type": "code",
   "execution_count": 10,
   "metadata": {},
   "outputs": [
    {
     "name": "stdout",
     "output_type": "stream",
     "text": [
      "we'll find a way we always have - Interstellar\n",
      "I'll find you and I'll kill you - Taken\n",
      "I'll be back - Terminator 2\n"
     ]
    }
   ],
   "source": [
    "with open('movie_quotes.txt', 'r') as file:\n",
    "    lines = file.readlines()\n",
    "    line = ''\n",
    "    for line in lines:\n",
    "        print(line, end='')"
   ]
  }
 ],
 "metadata": {
  "interpreter": {
   "hash": "b89b5cfaba6639976dc87ff2fec6d58faec662063367e2c229c520fe71072417"
  },
  "kernelspec": {
   "display_name": "Python 3.10.0 64-bit",
   "language": "python",
   "name": "python3"
  },
  "language_info": {
   "codemirror_mode": {
    "name": "ipython",
    "version": 3
   },
   "file_extension": ".py",
   "mimetype": "text/x-python",
   "name": "python",
   "nbconvert_exporter": "python",
   "pygments_lexer": "ipython3",
   "version": "3.8.12"
  },
  "orig_nbformat": 4
 },
 "nbformat": 4,
 "nbformat_minor": 2
}
