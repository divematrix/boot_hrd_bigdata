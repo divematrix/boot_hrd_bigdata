{
 "cells": [
  {
   "cell_type": "markdown",
   "metadata": {},
   "source": [
    "# 예외처리"
   ]
  },
  {
   "cell_type": "code",
   "execution_count": 1,
   "metadata": {},
   "outputs": [
    {
     "name": "stdout",
     "output_type": "stream",
     "text": [
      "숫자를 입력하세요.\n",
      "576\n"
     ]
    }
   ],
   "source": [
    "if __name__ == '__main__':\n",
    "    def my_power(y):\n",
    "        print(\"숫자를 입력하세요.\")\n",
    "        x = input()\n",
    "        return int(x) ** y\n",
    "\n",
    "    print(my_power(2))"
   ]
  },
  {
   "cell_type": "markdown",
   "metadata": {},
   "source": [
    "## 예외처리 구문1\n",
    "    try:\n",
    "        # 문제가 없을 경우 실행 할 코드\n",
    "\t\t\n",
    "    except:\n",
    "        # 문제가 생겼을 때 실행 할 코드"
   ]
  },
  {
   "cell_type": "code",
   "execution_count": 2,
   "metadata": {},
   "outputs": [
    {
     "name": "stdout",
     "output_type": "stream",
     "text": [
      "예외가 발생했습니다.\n",
      "예외처리 끝.\n"
     ]
    }
   ],
   "source": [
    "try:\n",
    "    print(1/0)\n",
    "except:\n",
    "    print(\"예외가 발생했습니다.\")\n",
    "\n",
    "print(\"예외처리 끝.\")"
   ]
  },
  {
   "cell_type": "markdown",
   "metadata": {},
   "source": [
    "## 파이썬의 예외 처리 구문2\n",
    "\n",
    "    try:\n",
    "        # 문제가 없을 경우 실행 할 코드\n",
    "\n",
    "    except 예외형식1:\n",
    "        # 문제가 생겼을 때 실행 할 코드\n",
    "\n",
    "    except 예외형식2:\n",
    "        # 문제가 생겼을 때 실행 할 코드"
   ]
  },
  {
   "cell_type": "code",
   "execution_count": 3,
   "metadata": {},
   "outputs": [
    {
     "name": "stdout",
     "output_type": "stream",
     "text": [
      "첨자를 입력하세요:\n",
      "0으로 나눌 수 없습니다.\n"
     ]
    }
   ],
   "source": [
    "my_list = [1, 2, 3]\n",
    "\n",
    "try:\n",
    "    print(\"첨자를 입력하세요:\")\n",
    "    index = int(input())\n",
    "    print(my_list[index] / 0)\n",
    "except ZeroDivisionError:\n",
    "    print(\"0으로 나눌 수 없습니다.\")\n",
    "except IndexError:\n",
    "    print(\"잘못된 첨자입니다.\")"
   ]
  },
  {
   "cell_type": "markdown",
   "metadata": {},
   "source": [
    "## 파이썬의 예외 처리 구문3\n",
    "\n",
    "    try:\n",
    "        # 문제가 없을 경우 실행 할 코드\n",
    "\n",
    "    except 예외형식1 as e:\n",
    "        # 문제가 생겼을 때 실행 할 코드\n",
    "\n",
    "    except 예외형식2 as e:\n",
    "        # 문제가 생겼을 때 실행 할 코드"
   ]
  },
  {
   "cell_type": "code",
   "execution_count": 4,
   "metadata": {},
   "outputs": [
    {
     "name": "stdout",
     "output_type": "stream",
     "text": [
      "첨자를 입력하세요:\n",
      "0으로 나눌 수 없습니다. (division by zero)\n"
     ]
    }
   ],
   "source": [
    "my_list = [1, 2, 3]\n",
    "\n",
    "try:\n",
    "    print(\"첨자를 입력하세요:\")\n",
    "    index = int(input())\n",
    "    print(my_list[index] / 0)\n",
    "except ZeroDivisionError as e:\n",
    "    print(\"0으로 나눌 수 없습니다. ({0})\".format(e))\n",
    "except IndexError as e:\n",
    "    print(\"잘못된 첨자입니다. ({0})\".format(e))"
   ]
  },
  {
   "cell_type": "code",
   "execution_count": 5,
   "metadata": {},
   "outputs": [
    {
     "name": "stdout",
     "output_type": "stream",
     "text": [
      "첨자를 입력하세요:\n",
      "0으로 나눌 수 없습니다. (division by zero)\n"
     ]
    }
   ],
   "source": [
    "my_list = [1, 2, 3]\n",
    "\n",
    "try:\n",
    "    print(\"첨자를 입력하세요:\")\n",
    "    index = int(input())\n",
    "    print(my_list[index] / 0)\n",
    "except ZeroDivisionError as e:\n",
    "    print(\"0으로 나눌 수 없습니다. ({0})\".format(e))\n",
    "except:\n",
    "    print(\"예외가 발생했습니다.\")"
   ]
  },
  {
   "cell_type": "markdown",
   "metadata": {},
   "source": [
    "## try절을 무사히 실행하면 만날 수 있는 else\n",
    "\n",
    "    try:\n",
    "        # 실행할 코드 블록\n",
    "    except:\n",
    "        # 예외 처리 코드 블록\n",
    "    else:\n",
    "        # except절을 만나지 않았을 경우 실행하는 코드 블록"
   ]
  },
  {
   "cell_type": "code",
   "execution_count": 6,
   "metadata": {},
   "outputs": [
    {
     "name": "stdout",
     "output_type": "stream",
     "text": [
      "첨자를 입력하세요:\n",
      "my_list[1]: 2\n",
      "리스트의 요소 출력에 성공했습니다.\n"
     ]
    }
   ],
   "source": [
    "my_list = [1, 2, 3]\n",
    "\n",
    "try:\n",
    "    print(\"첨자를 입력하세요:\")\n",
    "    index = int(input())\n",
    "    print(\"my_list[{0}]: {1}\".format(index, my_list[index]))\n",
    "except Exception as err:\n",
    "    print(\"예외가 발생했습니다 ({0})\".format(err))\n",
    "else:\n",
    "    print(\"리스트의 요소 출력에 성공했습니다.\")"
   ]
  },
  {
   "cell_type": "markdown",
   "metadata": {},
   "source": [
    "## 반드시 실행되는 finally\n",
    "\n",
    "    try:\n",
    "        # 코드 블록\n",
    "\n",
    "    except:\n",
    "        # 코드 블록\n",
    "\n",
    "    else:\n",
    "        # 코드 블록\n",
    "\n",
    "    finally:\n",
    "        # 코드 블록"
   ]
  },
  {
   "cell_type": "code",
   "execution_count": 7,
   "metadata": {},
   "outputs": [
    {
     "name": "stdout",
     "output_type": "stream",
     "text": [
      "첨자를 입력하세요:\n",
      "my_list[1]: 2\n",
      "어떤 일이 있어도 마무리합니다.\n"
     ]
    }
   ],
   "source": [
    "my_list = [1, 2, 3]\n",
    "\n",
    "try:\n",
    "    print(\"첨자를 입력하세요:\")\n",
    "    index = int(input())\n",
    "    print(\"my_list[{0}]: {1}\".format(index, my_list[index]))\n",
    "except Exception as err:\n",
    "    print(\"예외가 발생했습니다 ({0})\".format(err))\n",
    "finally:\n",
    "    print(\"어떤 일이 있어도 마무리합니다.\")"
   ]
  },
  {
   "cell_type": "code",
   "execution_count": 8,
   "metadata": {},
   "outputs": [
    {
     "name": "stdout",
     "output_type": "stream",
     "text": [
      "첨자를 입력하세요:\n",
      "my_list[1]: 2\n",
      "리스트의 요소 출력에 성공했습니다.\n",
      "어떤 일이 있어도 마무리합니다.\n"
     ]
    }
   ],
   "source": [
    "my_list = [1, 2, 3]\n",
    "\n",
    "try:\n",
    "    print(\"첨자를 입력하세요:\")\n",
    "    index = int(input())\n",
    "    print(\"my_list[{0}]: {1}\".format(index, my_list[index]))\n",
    "except Exception as err:\n",
    "    print(\"예외가 발생했습니다 ({0})\".format(err))\n",
    "else:\n",
    "    print(\"리스트의 요소 출력에 성공했습니다.\")\n",
    "finally:\n",
    "    print(\"어떤 일이 있어도 마무리합니다.\")"
   ]
  },
  {
   "cell_type": "markdown",
   "metadata": {},
   "source": [
    "## Exception 클래스\n",
    "\n",
    "    BaseException\n",
    "        SystemExit\n",
    "        Keyboardinterrupt\n",
    "        GeneratorExit\n",
    "        Exception\n",
    "            ...\n",
    "            ArithmeticError\n",
    "                ZeroDivsionError\n",
    "                ...\n",
    "\n",
    "            LookupError\n",
    "                IndexError\n",
    "                ...\n",
    "            ..."
   ]
  },
  {
   "cell_type": "code",
   "execution_count": 9,
   "metadata": {},
   "outputs": [
    {
     "name": "stdout",
     "output_type": "stream",
     "text": [
      "첨자를 입력하세요:\n",
      "1) 0으로 나눌 수 없습니다. (division by zero)\n"
     ]
    }
   ],
   "source": [
    "my_list = [1, 2, 3]\n",
    "\n",
    "try:\n",
    "    print(\"첨자를 입력하세요:\")\n",
    "    index = int(input())\n",
    "    print(my_list[index] / 0)\n",
    "\n",
    "except ZeroDivisionError as err:\n",
    "    print(\"1) 0으로 나눌 수 없습니다. ({0})\".format(err))\n",
    "\n",
    "except IndexError as err:\n",
    "    print(\"2) 잘못된 첨자입니다. ({0})\".format(err))\n",
    "\n",
    "except Exception as err:\n",
    "    print(\"3) 예외가 발생했습니다. ({0})\".format(err))"
   ]
  },
  {
   "cell_type": "code",
   "execution_count": 10,
   "metadata": {},
   "outputs": [
    {
     "ename": "Exception",
     "evalue": "입력 받은 문자열이 숫자로 구성되어 있지 않습니다.",
     "output_type": "error",
     "traceback": [
      "\u001b[1;31m---------------------------------------------------------------------------\u001b[0m",
      "\u001b[1;31mException\u001b[0m                                 Traceback (most recent call last)",
      "\u001b[1;32m~\\AppData\\Local\\Temp/ipykernel_2900/1479772173.py\u001b[0m in \u001b[0;36m<module>\u001b[1;34m\u001b[0m\n\u001b[0;32m      4\u001b[0m \u001b[0mtext\u001b[0m \u001b[1;33m=\u001b[0m \u001b[0minput\u001b[0m\u001b[1;33m(\u001b[0m\u001b[1;33m)\u001b[0m\u001b[1;33m\u001b[0m\u001b[1;33m\u001b[0m\u001b[0m\n\u001b[0;32m      5\u001b[0m \u001b[1;32mif\u001b[0m \u001b[0mtext\u001b[0m\u001b[1;33m.\u001b[0m\u001b[0misdigit\u001b[0m\u001b[1;33m(\u001b[0m\u001b[1;33m)\u001b[0m \u001b[1;33m==\u001b[0m \u001b[1;32mFalse\u001b[0m\u001b[1;33m:\u001b[0m\u001b[1;33m\u001b[0m\u001b[1;33m\u001b[0m\u001b[0m\n\u001b[1;32m----> 6\u001b[1;33m     \u001b[1;32mraise\u001b[0m \u001b[0mException\u001b[0m\u001b[1;33m(\u001b[0m\u001b[1;34m\"입력 받은 문자열이 숫자로 구성되어 있지 않습니다.\"\u001b[0m\u001b[1;33m)\u001b[0m\u001b[1;33m\u001b[0m\u001b[1;33m\u001b[0m\u001b[0m\n\u001b[0m\u001b[0;32m      7\u001b[0m \u001b[1;33m\u001b[0m\u001b[0m\n\u001b[0;32m      8\u001b[0m \u001b[1;31m# ex2) 무조건 예외 발생\u001b[0m\u001b[1;33m\u001b[0m\u001b[1;33m\u001b[0m\u001b[1;33m\u001b[0m\u001b[0m\n",
      "\u001b[1;31mException\u001b[0m: 입력 받은 문자열이 숫자로 구성되어 있지 않습니다."
     ]
    }
   ],
   "source": [
    "# 우리도 예외 좀 일으켜보자\n",
    "# ex1)\n",
    "\n",
    "text = input()\n",
    "if text.isdigit() == False:\n",
    "    raise Exception(\"입력 받은 문자열이 숫자로 구성되어 있지 않습니다.\")\n",
    "\n",
    "# ex2) 무조건 예외 발생\n",
    "# raise Exception(\"예외를 일으킵니다.\")"
   ]
  },
  {
   "cell_type": "code",
   "execution_count": null,
   "metadata": {},
   "outputs": [
    {
     "name": "stdout",
     "output_type": "stream",
     "text": [
      "예외가 발생하였습니다. :예외를 일으킵니다.\n"
     ]
    }
   ],
   "source": [
    "# ex3)\n",
    "try:\n",
    "    raise Exception(\"예외를 일으킵니다.\")\n",
    "except Exception as e:\n",
    "    print(\"예외가 발생하였습니다. :{0}\".format(e))"
   ]
  },
  {
   "cell_type": "code",
   "execution_count": null,
   "metadata": {},
   "outputs": [
    {
     "name": "stdout",
     "output_type": "stream",
     "text": [
      "1~10 사이의 수를 입력하세요:\n",
      "입력한 수는 3입니다.\n"
     ]
    }
   ],
   "source": [
    "# ex4)\n",
    "def some_function():\n",
    "    print(\"1~10 사이의 수를 입력하세요:\")\n",
    "    num = int(input())\n",
    "    if num < 1 or num > 10:\n",
    "        raise Exception(\"유효하지 않은 숫자입니다.: {0}\".format(num))\n",
    "    else:\n",
    "        print(\"입력한 수는 {0}입니다.\".format(num))\n",
    "\n",
    "try:\n",
    "    some_function()\n",
    "except Exception as err:\n",
    "    print(\"예외가 발생했습니다. {0}\".format(err))"
   ]
  },
  {
   "cell_type": "markdown",
   "metadata": {},
   "source": [
    "## 직접 예외 발생\n",
    "\n",
    "try:\n",
    "    # 예외 발생     \n",
    "except:\n",
    "    raise"
   ]
  },
  {
   "cell_type": "code",
   "execution_count": null,
   "metadata": {},
   "outputs": [
    {
     "name": "stdout",
     "output_type": "stream",
     "text": [
      "1~10 사이의 수를 입력하세요:\n",
      "입력한 수는 5입니다.\n"
     ]
    }
   ],
   "source": [
    "def some_function():\n",
    "    print(\"1~10 사이의 수를 입력하세요:\")\n",
    "    num = int(input())\n",
    "    if num < 1 or num > 10:\n",
    "        raise Exception(\"유효하지 않은 숫자입니다.: {0}\".format(num))\n",
    "    else:\n",
    "        print(\"입력한 수는 {0}입니다.\".format(num))\n",
    "\n",
    "def some_function_caller():\n",
    "    try:\n",
    "        some_function()\n",
    "    except Exception as err:\n",
    "        print(\"1) 예외가 발생했습니다. {0}\".format(err))\n",
    "        raise\n",
    "\n",
    "try:\n",
    "    some_function_caller()\n",
    "except Exception as err:\n",
    "    print(\"2) 예외가 발생했습니다. {0}\".format(err))"
   ]
  },
  {
   "cell_type": "markdown",
   "metadata": {},
   "source": [
    "## 사용자 정의 예외 형식\n",
    "\n",
    "class MyException(Exception):   \n",
    "    def __init__(self):   \n",
    "        super().__init__(\"MyException이 발생했습니다.\")   \n",
    "\n",
    "if everything_is_fine == False:   \n",
    "    raise MyException()"
   ]
  },
  {
   "cell_type": "code",
   "execution_count": null,
   "metadata": {},
   "outputs": [
    {
     "name": "stdout",
     "output_type": "stream",
     "text": [
      "숫자를 입력하세요:\n",
      "정수 형식으로 변환되었습니다 : 3(<class 'int'>\n"
     ]
    }
   ],
   "source": [
    "class InvalidIntException(Exception):\n",
    "    def __init__(self, arg):\n",
    "        super().__init__('정수가 아닙니다.: {0}'.format(arg))\n",
    "\n",
    "\n",
    "def convert_to_integer(text):\n",
    "    if text.isdigit():  # 부호(+, -) 처리 못함.\n",
    "        return int(text)\n",
    "    else:\n",
    "        raise InvalidIntException(text)\n",
    "\n",
    "\n",
    "if __name__ == '__main__':\n",
    "    try:\n",
    "        print('숫자를 입력하세요:')\n",
    "        text = input()\n",
    "        number = convert_to_integer(text)\n",
    "    except InvalidIntException as err:\n",
    "        print('예외가 발생했습니다 ({0})'.format(err))\n",
    "    else:\n",
    "        print('정수 형식으로 변환되었습니다 : {0}({1}'.format(number, type(number)))"
   ]
  }
 ],
 "metadata": {
  "interpreter": {
   "hash": "b89b5cfaba6639976dc87ff2fec6d58faec662063367e2c229c520fe71072417"
  },
  "kernelspec": {
   "display_name": "Python 3.10.0 64-bit",
   "language": "python",
   "name": "python3"
  },
  "language_info": {
   "codemirror_mode": {
    "name": "ipython",
    "version": 3
   },
   "file_extension": ".py",
   "mimetype": "text/x-python",
   "name": "python",
   "nbconvert_exporter": "python",
   "pygments_lexer": "ipython3",
   "version": "3.8.12"
  },
  "orig_nbformat": 4
 },
 "nbformat": 4,
 "nbformat_minor": 2
}
