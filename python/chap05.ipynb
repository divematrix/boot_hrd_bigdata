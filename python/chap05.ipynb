{
 "cells": [
  {
   "cell_type": "markdown",
   "metadata": {},
   "source": [
    "# 함수"
   ]
  },
  {
   "cell_type": "code",
   "execution_count": 1,
   "metadata": {},
   "outputs": [
    {
     "name": "stdout",
     "output_type": "stream",
     "text": [
      "Hello Python!!!\n"
     ]
    }
   ],
   "source": [
    "# 함수 정의 방법\n",
    "\n",
    "def hello():\n",
    "    print('Hello Python!!!')\n",
    "\n",
    "hello()   # 함수 호출 방법"
   ]
  },
  {
   "cell_type": "code",
   "execution_count": 2,
   "metadata": {},
   "outputs": [
    {
     "name": "stdout",
     "output_type": "stream",
     "text": [
      "10\n",
      "<function my_abs at 0x000001CA0994B280>\n"
     ]
    }
   ],
   "source": [
    "# 호출과 반환\n",
    "\n",
    "def my_abs(arg):\n",
    "    if(arg < 0):\n",
    "        result = arg * -1\n",
    "    else:\n",
    "        result = arg\n",
    "        \n",
    "    return result\n",
    "\n",
    "# my_abs() # error\n",
    "print(my_abs(-10))\n",
    "print(my_abs)  # 할당된 주소값 반환."
   ]
  },
  {
   "cell_type": "code",
   "execution_count": 3,
   "metadata": {},
   "outputs": [
    {
     "name": "stdout",
     "output_type": "stream",
     "text": [
      "안녕하세요.\n",
      "안녕하세요.\n",
      "안녕하세요.\n"
     ]
    }
   ],
   "source": [
    "# 인자(argument) 이름의 올바른 예\n",
    "\n",
    "def print_string1(text, count):\n",
    "    for i in range(count):\n",
    "        print(text)\n",
    "\n",
    "print_string1('안녕하세요.', 3)     "
   ]
  },
  {
   "cell_type": "code",
   "execution_count": 4,
   "metadata": {},
   "outputs": [
    {
     "name": "stdout",
     "output_type": "stream",
     "text": [
      "안녕하세요.\n",
      "안녕하세요.\n",
      "안녕하세요.\n",
      "안녕하세요.\n",
      "안녕하세요.\n"
     ]
    }
   ],
   "source": [
    "# 기본값 인자(Default Argument Value)\n",
    "\n",
    "def print_string2(text, count=1):\n",
    "    for i in range(count):\n",
    "        print(text)\n",
    "        \n",
    "print_string2('안녕하세요.', 5)"
   ]
  },
  {
   "cell_type": "code",
   "execution_count": 5,
   "metadata": {},
   "outputs": [
    {
     "name": "stdout",
     "output_type": "stream",
     "text": [
      "안녕하세요.\n"
     ]
    }
   ],
   "source": [
    "print_string2('안녕하세요.')"
   ]
  },
  {
   "cell_type": "code",
   "execution_count": 6,
   "metadata": {},
   "outputs": [
    {
     "ename": "TypeError",
     "evalue": "print_string2() missing 1 required positional argument: 'text'",
     "output_type": "error",
     "traceback": [
      "\u001b[1;31m---------------------------------------------------------------------------\u001b[0m",
      "\u001b[1;31mTypeError\u001b[0m                                 Traceback (most recent call last)",
      "\u001b[1;32m~\\AppData\\Local\\Temp/ipykernel_13216/1772472365.py\u001b[0m in \u001b[0;36m<module>\u001b[1;34m\u001b[0m\n\u001b[1;32m----> 1\u001b[1;33m \u001b[0mprint_string2\u001b[0m\u001b[1;33m(\u001b[0m\u001b[1;33m)\u001b[0m \u001b[1;31m# error\u001b[0m\u001b[1;33m\u001b[0m\u001b[1;33m\u001b[0m\u001b[0m\n\u001b[0m",
      "\u001b[1;31mTypeError\u001b[0m: print_string2() missing 1 required positional argument: 'text'"
     ]
    }
   ],
   "source": [
    "print_string2() # error"
   ]
  },
  {
   "cell_type": "markdown",
   "metadata": {},
   "source": [
    "## - 키워드 인자(Keyword Argument)\n",
    "      : 호출자가 매개변수의 이름을 일일이 지정해서 데이터를 입력하는 것."
   ]
  },
  {
   "cell_type": "code",
   "execution_count": null,
   "metadata": {},
   "outputs": [
    {
     "name": "stdout",
     "output_type": "stream",
     "text": [
      "name = 홍길동\n",
      "position = student\n",
      "nationlity = American\n"
     ]
    }
   ],
   "source": [
    "def print_personnel(name, position='staff', nationlity='Korea'):\n",
    "    print('name = {0}'.format(name))\n",
    "    print('position = {0}'.format(position))\n",
    "    print('nationlity = {0}'.format(nationlity))\n",
    "\n",
    "print_personnel('홍길동','student', 'American')"
   ]
  },
  {
   "cell_type": "code",
   "execution_count": null,
   "metadata": {},
   "outputs": [
    {
     "name": "stdout",
     "output_type": "stream",
     "text": [
      "name = 홍길동\n",
      "position = student\n",
      "nationlity = Korea\n"
     ]
    }
   ],
   "source": [
    "print_personnel('홍길동','student')"
   ]
  },
  {
   "cell_type": "code",
   "execution_count": null,
   "metadata": {},
   "outputs": [
    {
     "name": "stdout",
     "output_type": "stream",
     "text": [
      "name = 홍길동\n",
      "position = staff\n",
      "nationlity = Korea\n"
     ]
    }
   ],
   "source": [
    "print_personnel('홍길동')"
   ]
  },
  {
   "cell_type": "code",
   "execution_count": null,
   "metadata": {},
   "outputs": [
    {
     "name": "stdout",
     "output_type": "stream",
     "text": [
      "name = 강감찬\n",
      "position = staff\n",
      "nationlity = Korea\n"
     ]
    }
   ],
   "source": [
    "print_personnel(name = '강감찬')"
   ]
  },
  {
   "cell_type": "code",
   "execution_count": null,
   "metadata": {},
   "outputs": [
    {
     "ename": "TypeError",
     "evalue": "print_personnel() missing 1 required positional argument: 'name'",
     "output_type": "error",
     "traceback": [
      "\u001b[1;31m---------------------------------------------------------------------------\u001b[0m",
      "\u001b[1;31mTypeError\u001b[0m                                 Traceback (most recent call last)",
      "\u001b[1;32m~\\AppData\\Local\\Temp/ipykernel_6092/3011458238.py\u001b[0m in \u001b[0;36m<module>\u001b[1;34m\u001b[0m\n\u001b[1;32m----> 1\u001b[1;33m \u001b[0mprint_personnel\u001b[0m\u001b[1;33m(\u001b[0m\u001b[0mnationlity\u001b[0m\u001b[1;33m=\u001b[0m\u001b[1;34m'Japan'\u001b[0m\u001b[1;33m)\u001b[0m \u001b[1;31m# error - name에 데이터 미전달.\u001b[0m\u001b[1;33m\u001b[0m\u001b[1;33m\u001b[0m\u001b[0m\n\u001b[0m",
      "\u001b[1;31mTypeError\u001b[0m: print_personnel() missing 1 required positional argument: 'name'"
     ]
    }
   ],
   "source": [
    "print_personnel(nationlity='Japan') # error - name에 데이터 미전달."
   ]
  },
  {
   "cell_type": "code",
   "execution_count": null,
   "metadata": {},
   "outputs": [
    {
     "name": "stdout",
     "output_type": "stream",
     "text": [
      "name = 이순신\n",
      "position = staff\n",
      "nationlity = Japan\n"
     ]
    }
   ],
   "source": [
    "print_personnel(name='이순신', nationlity='Japan')"
   ]
  },
  {
   "cell_type": "code",
   "execution_count": null,
   "metadata": {},
   "outputs": [
    {
     "name": "stdout",
     "output_type": "stream",
     "text": [
      "name = 이순신\n",
      "position = business\n",
      "nationlity = Korea\n"
     ]
    }
   ],
   "source": [
    "print_personnel(position='business', name='이순신')"
   ]
  },
  {
   "cell_type": "markdown",
   "metadata": {},
   "source": [
    "## - 가변 매개 변수(Arbitrary Argument List)"
   ]
  },
  {
   "cell_type": "code",
   "execution_count": null,
   "metadata": {},
   "outputs": [
    {
     "name": "stdout",
     "output_type": "stream",
     "text": [
      "<class 'tuple'>\n"
     ]
    },
    {
     "data": {
      "text/plain": [
       "'아버지가 방에 들어가신다.'"
      ]
     },
     "execution_count": 14,
     "metadata": {},
     "output_type": "execute_result"
    }
   ],
   "source": [
    "def merge_string(*text_list):\n",
    "    print(type(text_list)) # <class 'tuple'>\n",
    "    \n",
    "    result = ''\n",
    "    for s in text_list:\n",
    "        result += s\n",
    "        \n",
    "    return result\n",
    "\n",
    "merge_string('아버지가 ', '방에 ', '들어가신다.')"
   ]
  },
  {
   "cell_type": "code",
   "execution_count": null,
   "metadata": {},
   "outputs": [
    {
     "name": "stdout",
     "output_type": "stream",
     "text": [
      "<class 'dict'>\n",
      "손흥민 = 축구\n",
      "류현진 = 야구\n",
      "서장훈 = 농구\n"
     ]
    }
   ],
   "source": [
    "def print_team(**players):\n",
    "    print(type(players)) # <class 'dict'>\n",
    "    \n",
    "    for k in players.keys():\n",
    "        print('{0} = {1}'.format(k, players[k]))\n",
    "\n",
    "print_team(손흥민='축구', 류현진='야구', 서장훈='농구')"
   ]
  },
  {
   "cell_type": "code",
   "execution_count": null,
   "metadata": {},
   "outputs": [
    {
     "name": "stdout",
     "output_type": "stream",
     "text": [
      "홍길동\n",
      "이순신\n",
      "강감찬\n"
     ]
    }
   ],
   "source": [
    "def print_args1(argc, *argv):\n",
    "    for i in range(argc):\n",
    "        print(argv[i])\n",
    "\n",
    "print_args1(3, '홍길동', '이순신', '강감찬')"
   ]
  },
  {
   "cell_type": "code",
   "execution_count": null,
   "metadata": {},
   "outputs": [
    {
     "ename": "SyntaxError",
     "evalue": "positional argument follows keyword argument (Temp/ipykernel_6092/332408404.py, line 2)",
     "output_type": "error",
     "traceback": [
      "\u001b[1;36m  File \u001b[1;32m\"C:\\Users\\spell\\AppData\\Local\\Temp/ipykernel_6092/332408404.py\"\u001b[1;36m, line \u001b[1;32m2\u001b[0m\n\u001b[1;33m    print_args1(argc=3,'홍길동', '이순신', '강감찬') # error\u001b[0m\n\u001b[1;37m                       ^\u001b[0m\n\u001b[1;31mSyntaxError\u001b[0m\u001b[1;31m:\u001b[0m positional argument follows keyword argument\n"
     ]
    }
   ],
   "source": [
    "# 주의\n",
    "print_args1(argc=3,'홍길동', '이순신', '강감찬') # error\n",
    "# 일반 매개변수와 가변 매개변수를 같이 사용할 때 매개변수=인자 형태를 사용하지 않는다\n",
    "# 일반 매개변수의 위치에 따라 가변 매개변수에 들어갈 값이 변해서"
   ]
  },
  {
   "cell_type": "code",
   "execution_count": null,
   "metadata": {},
   "outputs": [
    {
     "ename": "SyntaxError",
     "evalue": "positional argument follows keyword argument (Temp/ipykernel_6092/3808558272.py, line 1)",
     "output_type": "error",
     "traceback": [
      "\u001b[1;36m  File \u001b[1;32m\"C:\\Users\\spell\\AppData\\Local\\Temp/ipykernel_6092/3808558272.py\"\u001b[1;36m, line \u001b[1;32m1\u001b[0m\n\u001b[1;33m    print_args1('홍길동', '이순신', argc=3, '강감찬')\u001b[0m\n\u001b[1;37m                                            \n^\u001b[0m\n\u001b[1;31mSyntaxError\u001b[0m\u001b[1;31m:\u001b[0m positional argument follows keyword argument\n"
     ]
    }
   ],
   "source": [
    "print_args1('홍길동', '이순신', argc=3, '강감찬')"
   ]
  },
  {
   "cell_type": "code",
   "execution_count": null,
   "metadata": {},
   "outputs": [
    {
     "ename": "TypeError",
     "evalue": "print_args2() missing 1 required keyword-only argument: 'argc'",
     "output_type": "error",
     "traceback": [
      "\u001b[1;31m---------------------------------------------------------------------------\u001b[0m",
      "\u001b[1;31mTypeError\u001b[0m                                 Traceback (most recent call last)",
      "\u001b[1;32m~\\AppData\\Local\\Temp/ipykernel_6092/1089856361.py\u001b[0m in \u001b[0;36m<module>\u001b[1;34m\u001b[0m\n\u001b[0;32m      3\u001b[0m         \u001b[0mprint\u001b[0m\u001b[1;33m(\u001b[0m\u001b[0margv\u001b[0m\u001b[1;33m[\u001b[0m\u001b[0mi\u001b[0m\u001b[1;33m]\u001b[0m\u001b[1;33m)\u001b[0m\u001b[1;33m\u001b[0m\u001b[1;33m\u001b[0m\u001b[0m\n\u001b[0;32m      4\u001b[0m \u001b[1;33m\u001b[0m\u001b[0m\n\u001b[1;32m----> 5\u001b[1;33m \u001b[0mprint_args2\u001b[0m\u001b[1;33m(\u001b[0m\u001b[1;34m'홍길동'\u001b[0m\u001b[1;33m,\u001b[0m \u001b[1;34m'이순신'\u001b[0m\u001b[1;33m,\u001b[0m \u001b[1;34m'강감찬'\u001b[0m\u001b[1;33m,\u001b[0m \u001b[1;36m3\u001b[0m\u001b[1;33m)\u001b[0m \u001b[1;31m# error\u001b[0m\u001b[1;33m\u001b[0m\u001b[1;33m\u001b[0m\u001b[0m\n\u001b[0m",
      "\u001b[1;31mTypeError\u001b[0m: print_args2() missing 1 required keyword-only argument: 'argc'"
     ]
    }
   ],
   "source": [
    "def print_args2(*argv, argc):\n",
    "    for i in range(argc):\n",
    "        print(argv[i])\n",
    "\n",
    "print_args2('홍길동', '이순신', '강감찬', 3) # error"
   ]
  },
  {
   "cell_type": "code",
   "execution_count": null,
   "metadata": {},
   "outputs": [
    {
     "name": "stdout",
     "output_type": "stream",
     "text": [
      "홍길동\n",
      "이순신\n",
      "강감찬\n"
     ]
    }
   ],
   "source": [
    "print_args2('홍길동', '이순신', '강감찬', argc=3)"
   ]
  },
  {
   "cell_type": "code",
   "execution_count": null,
   "metadata": {},
   "outputs": [
    {
     "name": "stdout",
     "output_type": "stream",
     "text": [
      "15\n"
     ]
    }
   ],
   "source": [
    "# 호출자에게 반환하기\n",
    "\n",
    "def multiply(a,b):\n",
    "    return a * b    # 1. 함수 즉시 종료 / 2. 호출자에게 결과 전달\n",
    "\n",
    "result = multiply(3, 5)\n",
    "print(result)"
   ]
  },
  {
   "cell_type": "code",
   "execution_count": null,
   "metadata": {},
   "outputs": [
    {
     "name": "stdout",
     "output_type": "stream",
     "text": [
      "50\n"
     ]
    }
   ],
   "source": [
    "# 한 함수 안에 여러 개의 return 배치 가능.\n",
    "\n",
    "def my_abs1(arg):\n",
    "    if arg < 0:\n",
    "        return arg * -1\n",
    "    else:\n",
    "        return arg\n",
    "\n",
    "result = my_abs1(-50)\n",
    "print(result)"
   ]
  },
  {
   "cell_type": "code",
   "execution_count": null,
   "metadata": {},
   "outputs": [
    {
     "name": "stdout",
     "output_type": "stream",
     "text": [
      "None\n",
      "<class 'NoneType'>\n"
     ]
    }
   ],
   "source": [
    "# 주의\n",
    "\n",
    "def my_abs2(arg):\n",
    "    if arg < 0:\n",
    "        return arg * -1\n",
    "    elif arg > 0:\n",
    "        return arg\n",
    "    \n",
    "result = my_abs2(0)\n",
    "print(result)  # None\n",
    "print(type(result))  # <class 'NoneType'>"
   ]
  },
  {
   "cell_type": "code",
   "execution_count": null,
   "metadata": {},
   "outputs": [
    {
     "name": "stdout",
     "output_type": "stream",
     "text": [
      "1\n",
      "2\n",
      "3\n"
     ]
    }
   ],
   "source": [
    "def ogamdo(num):\n",
    "    for i in range(1, num+1):\n",
    "        print('{0}'.format(i))\n",
    "        if i == 5:\n",
    "            return\n",
    "\n",
    "ogamdo(3)"
   ]
  },
  {
   "cell_type": "code",
   "execution_count": null,
   "metadata": {},
   "outputs": [
    {
     "name": "stdout",
     "output_type": "stream",
     "text": [
      "1\n",
      "2\n",
      "3\n",
      "4\n",
      "5\n"
     ]
    }
   ],
   "source": [
    "ogamdo(8)"
   ]
  },
  {
   "cell_type": "markdown",
   "metadata": {},
   "source": [
    "## - 변수의 유효 범위(scope)"
   ]
  },
  {
   "cell_type": "code",
   "execution_count": null,
   "metadata": {},
   "outputs": [
    {
     "name": "stdout",
     "output_type": "stream",
     "text": [
      "a:1\n",
      "a:0\n"
     ]
    }
   ],
   "source": [
    "def scope_test1():\n",
    "    a = 1  # 함수 호출시 메모리 생성\n",
    "    print('a:{0}'.format(a))\n",
    "\n",
    "a = 0       # 함수 밖 변수 선언\n",
    "scope_test1()\n",
    "print('a:{0}'.format(a))"
   ]
  },
  {
   "cell_type": "code",
   "execution_count": null,
   "metadata": {},
   "outputs": [
    {
     "name": "stdout",
     "output_type": "stream",
     "text": [
      "c:0\n",
      "c:1\n",
      "c:1\n"
     ]
    }
   ],
   "source": [
    "def scope_test2():\n",
    "    global c  # global 키워드:전역변수, 지역변수의 생성을 막는다.\n",
    "    c = 1\n",
    "    print('c:{0}'.format(c))\n",
    "    \n",
    "c = 0\n",
    "print('c:{0}'.format(c))\n",
    "scope_test2()\n",
    "print('c:{0}'.format(c))"
   ]
  },
  {
   "cell_type": "code",
   "execution_count": null,
   "metadata": {},
   "outputs": [
    {
     "name": "stdout",
     "output_type": "stream",
     "text": [
      "123\n"
     ]
    }
   ],
   "source": [
    "# 함수를 변수에 담아 사용\n",
    "\n",
    "def print_something(a):\n",
    "    print(a)\n",
    "\n",
    "print_something(123)"
   ]
  },
  {
   "cell_type": "code",
   "execution_count": null,
   "metadata": {},
   "outputs": [
    {
     "name": "stdout",
     "output_type": "stream",
     "text": [
      "123\n",
      "abc\n"
     ]
    }
   ],
   "source": [
    "p = print_something\n",
    "p(123)\n",
    "p('abc')"
   ]
  },
  {
   "cell_type": "code",
   "execution_count": null,
   "metadata": {},
   "outputs": [
    {
     "name": "stdout",
     "output_type": "stream",
     "text": [
      "3\n",
      "5\n"
     ]
    }
   ],
   "source": [
    "# 순서열 / 딕셔너리에도 변수로 담아보기\n",
    "\n",
    "def plus(a, b):\n",
    "    return a + b\n",
    "\n",
    "def minus(a, b):\n",
    "    return a - b\n",
    "\n",
    "flist = [plus, minus]\n",
    "\n",
    "print(flist[0](1, 2))  # plus(1,2)와 동일\n",
    "print(flist[1](10, 5)) # minus(10,5)와 동일"
   ]
  },
  {
   "cell_type": "code",
   "execution_count": null,
   "metadata": {},
   "outputs": [
    {
     "name": "stdout",
     "output_type": "stream",
     "text": [
      "안녕하세요.\n",
      "Hello.\n"
     ]
    }
   ],
   "source": [
    "# 함수의 매개변수에 함수 전달 기능\n",
    "\n",
    "def hello_korea():\n",
    "    print('안녕하세요.')\n",
    "    \n",
    "def hello_english():\n",
    "    print('Hello.')\n",
    "    \n",
    "def greet(hello):\n",
    "    hello()\n",
    "    \n",
    "greet(hello_korea)\n",
    "greet(hello_english)"
   ]
  },
  {
   "cell_type": "code",
   "execution_count": null,
   "metadata": {},
   "outputs": [
    {
     "name": "stdout",
     "output_type": "stream",
     "text": [
      "안녕하세요.\n",
      "Hello.\n"
     ]
    }
   ],
   "source": [
    "# 함수 내에서 함수를 반환\n",
    "def get_greeting(where):\n",
    "    if where == 'K':\n",
    "        return hello_korea\n",
    "    else:\n",
    "        return hello_english\n",
    "\n",
    "hello = get_greeting('K')\n",
    "hello()\n",
    "\n",
    "hello = get_greeting('E')\n",
    "hello()"
   ]
  },
  {
   "cell_type": "markdown",
   "metadata": {},
   "source": [
    "## - 중첩 함수"
   ]
  },
  {
   "cell_type": "code",
   "execution_count": null,
   "metadata": {},
   "outputs": [
    {
     "name": "stdout",
     "output_type": "stream",
     "text": [
      "0.6\n"
     ]
    }
   ],
   "source": [
    "import math\n",
    "\n",
    "def stddev(*args):\n",
    "    def mean():   # 중첩 함수\n",
    "        return sum(args) / len(args)\n",
    "    \n",
    "    def variance(m):  # 중첩 함수\n",
    "        total = 0\n",
    "        \n",
    "        for arg in args:\n",
    "            total += (arg - m) ** 2\n",
    "            \n",
    "        return total / (len(args) - 1)\n",
    "    \n",
    "    v = variance(mean())\n",
    "    \n",
    "    return math.sqrt(v)\n",
    "\n",
    "print(stddev(2.3, 1.7, 1.4, 0.7, 1.9))"
   ]
  },
  {
   "cell_type": "code",
   "execution_count": null,
   "metadata": {},
   "outputs": [
    {
     "ename": "NameError",
     "evalue": "name 'mean' is not defined",
     "output_type": "error",
     "traceback": [
      "\u001b[1;31m---------------------------------------------------------------------------\u001b[0m",
      "\u001b[1;31mNameError\u001b[0m                                 Traceback (most recent call last)",
      "\u001b[1;32m~\\AppData\\Local\\Temp/ipykernel_6092/707260514.py\u001b[0m in \u001b[0;36m<module>\u001b[1;34m\u001b[0m\n\u001b[1;32m----> 1\u001b[1;33m \u001b[0mprint\u001b[0m\u001b[1;33m(\u001b[0m\u001b[0mmean\u001b[0m\u001b[1;33m(\u001b[0m\u001b[1;33m)\u001b[0m\u001b[1;33m)\u001b[0m \u001b[1;31m# error - 중첩 함수는 외부에서 호출 불가능.\u001b[0m\u001b[1;33m\u001b[0m\u001b[1;33m\u001b[0m\u001b[0m\n\u001b[0m",
      "\u001b[1;31mNameError\u001b[0m: name 'mean' is not defined"
     ]
    }
   ],
   "source": [
    "print(mean()) # error - 중첩 함수는 외부에서 호출 불가능."
   ]
  },
  {
   "cell_type": "code",
   "execution_count": null,
   "metadata": {},
   "outputs": [],
   "source": [
    "# pass : 기능의 구현을 잠시 미루자.\n",
    "\n",
    "def empty_function():\n",
    "    pass\n",
    "\n",
    "empty_function()"
   ]
  },
  {
   "cell_type": "code",
   "execution_count": null,
   "metadata": {},
   "outputs": [],
   "source": [
    "# cf)\n",
    "class empty_class:\n",
    "    pass"
   ]
  }
 ],
 "metadata": {
  "kernelspec": {
   "display_name": "Python 3 (ipykernel)",
   "language": "python",
   "name": "python3"
  },
  "language_info": {
   "codemirror_mode": {
    "name": "ipython",
    "version": 3
   },
   "file_extension": ".py",
   "mimetype": "text/x-python",
   "name": "python",
   "nbconvert_exporter": "python",
   "pygments_lexer": "ipython3",
   "version": "3.8.12"
  }
 },
 "nbformat": 4,
 "nbformat_minor": 4
}
