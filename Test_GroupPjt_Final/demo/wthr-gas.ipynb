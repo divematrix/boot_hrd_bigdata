{
 "cells": [
  {
   "cell_type": "code",
   "execution_count": null,
   "metadata": {},
   "outputs": [],
   "source": [
    "import pandas as pd\n",
    "\n",
    "# 가스 데이터\n",
    "gas = pd.read_csv('./data/한국가스공사_월간 시도별 도시가스 판매현황_20201231.csv', encoding='cp949')\n",
    "\n",
    "# gas.info()\n",
    "# gas.head()\n",
    "# gas.tail()"
   ]
  },
  {
   "cell_type": "code",
   "execution_count": null,
   "metadata": {},
   "outputs": [],
   "source": [
    "# 날씨 데이터\n",
    "weather = pd.read_csv('./data/2000-01~2021-11m.csv', encoding='cp949')\n",
    "\n",
    "# weather.info()\n",
    "# weather.head()\n",
    "# weather.tail()"
   ]
  },
  {
   "cell_type": "code",
   "execution_count": null,
   "metadata": {},
   "outputs": [],
   "source": [
    "weather['year'] = pd.to_numeric(weather['일시'].str.split('-').str.get(0))\n",
    "weather['month'] = pd.to_numeric(weather['일시'].str.split('-').str.get(1))\n",
    "weather['meanTemp'] = weather['평균기온(°C)']\n",
    "weather['meanHighTemp'] = weather['평균최고기온(°C)']\n",
    "weather['meanLowTemp'] = weather['평균최저기온(°C)']\n",
    "weather['highTemp'] = weather['최고기온(°C)']\n",
    "weather['lowTemp'] = weather['최저기온(°C)']\n",
    "gas['year'] = pd.to_numeric(gas['연'])\n",
    "gas['month'] = pd.to_numeric(gas['월'])\n",
    "gas['usageGas'] = gas['서울']"
   ]
  },
  {
   "cell_type": "code",
   "execution_count": null,
   "metadata": {},
   "outputs": [],
   "source": [
    "# 정규분포를 이용한 데이터표준화\n",
    "# normalization_df = (df - df.mean())/df.std()\n",
    "# normalization_df.head()\n",
    "\n",
    "# Min-Max 데이터표준화\n",
    "# normalization_df = (df - df.mean())/df.std()\n",
    "# normalization_df.head()"
   ]
  },
  {
   "cell_type": "code",
   "execution_count": null,
   "metadata": {},
   "outputs": [],
   "source": [
    "# 정규분포를 이용 한 전처리\n",
    "weather['meanTemp'] = (weather['meanTemp'] - weather['meanTemp'].mean())/weather['meanTemp'].std()\n",
    "weather['meanHighTemp'] = (weather['meanHighTemp'] - weather['meanHighTemp'].mean())/weather['meanHighTemp'].std()\n",
    "weather['meanLowTemp'] = (weather['meanLowTemp'] - weather['meanLowTemp'].mean())/weather['meanLowTemp'].std()\n",
    "gas['usageGas'] = (gas['usageGas'] - gas['usageGas'].mean())/gas['usageGas'].std()"
   ]
  },
  {
   "cell_type": "code",
   "execution_count": null,
   "metadata": {},
   "outputs": [],
   "source": [
    "gas = gas.loc[:,['year','month','usageGas']]"
   ]
  },
  {
   "cell_type": "code",
   "execution_count": null,
   "metadata": {},
   "outputs": [],
   "source": [
    "gas.set_index(['year','month'], inplace=True)"
   ]
  },
  {
   "cell_type": "code",
   "execution_count": null,
   "metadata": {},
   "outputs": [],
   "source": [
    "gas.info()"
   ]
  },
  {
   "cell_type": "code",
   "execution_count": null,
   "metadata": {},
   "outputs": [],
   "source": [
    "weather = weather.loc[:,['year','month','meanTemp','meanHighTemp','meanLowTemp']]"
   ]
  },
  {
   "cell_type": "code",
   "execution_count": null,
   "metadata": {},
   "outputs": [],
   "source": [
    "weather.set_index(['year','month'], inplace=True)"
   ]
  },
  {
   "cell_type": "code",
   "execution_count": null,
   "metadata": {},
   "outputs": [],
   "source": [
    "weather.info()"
   ]
  },
  {
   "cell_type": "code",
   "execution_count": null,
   "metadata": {},
   "outputs": [],
   "source": [
    "gas.head()"
   ]
  },
  {
   "cell_type": "code",
   "execution_count": null,
   "metadata": {},
   "outputs": [],
   "source": [
    "weather.head()"
   ]
  },
  {
   "cell_type": "code",
   "execution_count": null,
   "metadata": {},
   "outputs": [],
   "source": [
    "# inner Join\n",
    "dataSet = pd.concat([weather,gas], join='inner',axis=1)\n",
    "# dataSet.info()\n",
    "# dataSet.head()\n",
    "# dataSet.tail()"
   ]
  },
  {
   "cell_type": "code",
   "execution_count": null,
   "metadata": {},
   "outputs": [],
   "source": [
    "trainX = dataSet.iloc[:240,:].loc[:,['meanTemp','meanHighTemp','meanLowTemp']]\n",
    "trainY = dataSet.iloc[:240,:].loc[:,'usageGas']\n",
    "testX = dataSet.iloc[240:,:].loc[:,['meanTemp','meanHighTemp','meanLowTemp']]\n",
    "testY = dataSet.iloc[240:,:].loc[:,'usageGas']"
   ]
  },
  {
   "cell_type": "code",
   "execution_count": null,
   "metadata": {},
   "outputs": [],
   "source": [
    "import tensorflow as tf\n",
    "\n",
    "model = tf.keras.Sequential()\n",
    "model.add(tf.keras.layers.Dense(units=3, input_dim=3))\n",
    "model.add(tf.keras.layers.Activation('sigmoid'))\n",
    "model.add(tf.keras.layers.Dense(units=1))\n",
    "model.add(tf.keras.layers.Activation('linear'))\n",
    "# linear - mse\n",
    "# sigmoid - binary_crossentropy\n",
    "# softmax - categorical_crossentropy"
   ]
  },
  {
   "cell_type": "code",
   "execution_count": null,
   "metadata": {},
   "outputs": [],
   "source": [
    "model.compile(loss='mse', optimizer=tf.keras.optimizers.Adam(lr=1e-3), metrics=['accuracy']) #\n",
    "model.summary()\n",
    "history = model.fit(trainX, trainY, epochs=2000)"
   ]
  },
  {
   "cell_type": "code",
   "execution_count": null,
   "metadata": {},
   "outputs": [],
   "source": [
    "loss_and_metrics = model.evaluate(testX, testY)\n",
    "print('')\n",
    "print('loss_and_metrics : ' + str(loss_and_metrics))"
   ]
  }
 ],
 "metadata": {
  "interpreter": {
   "hash": "a7f0c004579426d1d1b9c1f26127beb3fae80a58985b6f5c691fc41cfc2b2a52"
  },
  "kernelspec": {
   "display_name": "Python 3.8.12 64-bit ('tf_cpu': conda)",
   "language": "python",
   "name": "python3"
  },
  "language_info": {
   "codemirror_mode": {
    "name": "ipython",
    "version": 3
   },
   "file_extension": ".py",
   "mimetype": "text/x-python",
   "name": "python",
   "nbconvert_exporter": "python",
   "pygments_lexer": "ipython3",
   "version": "3.8.12"
  },
  "orig_nbformat": 4
 },
 "nbformat": 4,
 "nbformat_minor": 2
}
