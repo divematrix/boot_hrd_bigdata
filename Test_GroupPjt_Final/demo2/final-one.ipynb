{
 "cells": [
  {
   "cell_type": "code",
   "execution_count": 8,
   "metadata": {},
   "outputs": [],
   "source": [
    "import numpy as np\n",
    "import pandas as pd\n",
    "import seaborn as sns\n",
    "import matplotlib.pyplot as plt\n",
    "import os\n",
    "import warnings\n",
    "warnings.filterwarnings(\"ignore\")\n",
    "plt.style.use('ggplot')"
   ]
  },
  {
   "cell_type": "code",
   "execution_count": 14,
   "metadata": {},
   "outputs": [
    {
     "name": "stdout",
     "output_type": "stream",
     "text": [
      "        연   월     강원      서울      경기      인천      경남      경북      광주      대구  \\\n",
      "0    1989   1    326   37560       0   10468    2942     150    2203    1940   \n",
      "1    1989   2    272   33566       0    9211    2940     139    2034    1756   \n",
      "2    1989   3    253   30224       0    9608    2702     271    1940    1896   \n",
      "3    1989   4    163   18668       0    7736    1951     239    1225    1416   \n",
      "4    1989   5    134   15790       0    7091    1564     359     903    1270   \n",
      "..    ...  ..    ...     ...     ...     ...     ...     ...     ...     ...   \n",
      "379  2020   8  19076  163032  255222   70646   50960   76285   36452   53419   \n",
      "380  2020   9  18822  147556  243817   72542   53774   80552   37453   51142   \n",
      "381  2020  10  25946  213556  339823   78654   62056   95788   50615   52524   \n",
      "382  2020  11  35632  375289  497221  115663   84474  124036   71840   78450   \n",
      "383  2020  12  57301  636178  742863  179536  124291  167410  115182  117002   \n",
      "\n",
      "         대전      부산      세종      울산     전남      전북    제주     충남     충북  \n",
      "0       322    3112       0    2006    764     586     0      0      0  \n",
      "1       345    3052       0    1900    722     864     0      0      0  \n",
      "2       268    3714       0    2135    734     980     0      0      0  \n",
      "3       257    2497       0    1402    533     600     0      0      0  \n",
      "4       196    2268       0    1445    474     461     0      0      0  \n",
      "..      ...     ...     ...     ...    ...     ...   ...    ...    ...  \n",
      "379   32575   70508   93624  103814  40148   43885  1506  23090   7857  \n",
      "380   30989   70849  100875  112923  44921   48190  1179  37694   7378  \n",
      "381   43234   85283  120481  132347  49228   61328  1414  50694   8270  \n",
      "382   71668  122943  165923  164927  55073   82360  2161  58945  10230  \n",
      "383  114229  200163  232957  246272  77270  113880  4220  75782  13340  \n",
      "\n",
      "[384 rows x 19 columns]\n"
     ]
    }
   ],
   "source": [
    "# 가스 데이터\n",
    "gas = pd.read_csv('./data/한국가스공사_월간 시도별 도시가스 판매현황_20201231.csv', encoding='cp949')\n",
    "\n",
    "print(gas)\n",
    "# 주어진 가스 데이터는 1989년 1월 ~ 2020년 12월 도시가스판매현황"
   ]
  },
  {
   "cell_type": "code",
   "execution_count": 10,
   "metadata": {},
   "outputs": [
    {
     "name": "stdout",
     "output_type": "stream",
     "text": [
      "<class 'pandas.core.frame.DataFrame'>\n",
      "MultiIndex: 384 entries, (1989, 1) to (2020, 12)\n",
      "Data columns (total 1 columns):\n",
      " #   Column    Non-Null Count  Dtype\n",
      "---  ------    --------------  -----\n",
      " 0   usageGas  384 non-null    int64\n",
      "dtypes: int64(1)\n",
      "memory usage: 5.5 KB\n"
     ]
    }
   ],
   "source": [
    "# 가스 데이터 전처리\n",
    "gas['year'] = pd.to_numeric(gas['연'])\n",
    "gas['month'] = pd.to_numeric(gas['월'])\n",
    "gas['usageGas'] = gas['서울']\n",
    "\n",
    "# 가스 데이터에서 year, month, usageGas 만 따로 분리\n",
    "gas = gas.loc[:,['year','month','usageGas']]\n",
    "\n",
    "# year, month를 인덱스로 설정\n",
    "gas.set_index(['year','month'], inplace=True)\n",
    "\n",
    "gas.info()\n",
    "# gas.head()\n",
    "# gas.tail()"
   ]
  },
  {
   "cell_type": "code",
   "execution_count": 13,
   "metadata": {},
   "outputs": [
    {
     "name": "stdout",
     "output_type": "stream",
     "text": [
      "            usageGas\n",
      "year month          \n",
      "1989 1     -1.172237\n",
      "     2     -1.189642\n",
      "     3     -1.204206\n",
      "     4     -1.254563\n",
      "     5     -1.267105\n",
      "...              ...\n",
      "2020 8     -0.625467\n",
      "     9     -0.692907\n",
      "     10    -0.405298\n",
      "     11     0.299487\n",
      "     12     1.436366\n",
      "\n",
      "[384 rows x 1 columns]\n"
     ]
    }
   ],
   "source": [
    "# 기계학습으로 예측한 값을 다시 가스사용량으로 도출하기 위해 평균과 표준편차를 변수에 저장\n",
    "usageMean = gas['usageGas'].mean()\n",
    "usageStd = gas['usageGas'].std()\n",
    "\n",
    "# 가스 데이터 표준화\n",
    "gas['usageGas'] = (gas['usageGas'] - gas['usageGas'].mean())/gas['usageGas'].std()\n",
    "\n",
    "print(gas)"
   ]
  },
  {
   "cell_type": "code",
   "execution_count": 15,
   "metadata": {},
   "outputs": [
    {
     "name": "stdout",
     "output_type": "stream",
     "text": [
      "      지점 지점명       일시  평균기온(°C)  평균최고기온(°C)  평균최저기온(°C)  최고기온(°C)  최저기온(°C)  \\\n",
      "0    108  서울  2000-01      -2.1         1.7        -5.7       9.9     -12.1   \n",
      "1    108  서울  2000-02      -1.7         2.6        -5.8       7.5     -11.6   \n",
      "2    108  서울  2000-03       6.3        11.4         1.7      18.9      -4.8   \n",
      "3    108  서울  2000-04      11.9        16.9         7.3      23.5       1.8   \n",
      "4    108  서울  2000-05      17.5        22.7        12.9      30.5       7.9   \n",
      "..   ...  ..      ...       ...         ...         ...       ...       ...   \n",
      "258  108  서울  2021-07      28.1        32.2        24.6      36.5      19.6   \n",
      "259  108  서울  2021-08      25.9        29.7        22.8      33.7      18.1   \n",
      "260  108  서울  2021-09      22.6        26.9        18.8      30.3      16.0   \n",
      "261  108  서울  2021-10      15.6        20.5        11.6      28.8       1.3   \n",
      "262  108  서울  2021-11       8.2        13.1         4.0      21.3      -3.7   \n",
      "\n",
      "     최고기온 나타난날(yyyymmdd)  최저기온 나타난날(yyyymmdd)  \n",
      "0               20000101             20000107  \n",
      "1               20000219             20000201  \n",
      "2               20000327             20000308  \n",
      "3               20000420             20000411  \n",
      "4               20000525             20000502  \n",
      "..                   ...                  ...  \n",
      "258             20210724             20210703  \n",
      "259             20210805             20210831  \n",
      "260             20210913             20210930  \n",
      "261             20211003             20211017  \n",
      "262             20211107             20211123  \n",
      "\n",
      "[263 rows x 10 columns]\n"
     ]
    }
   ],
   "source": [
    "# 날씨 데이터\n",
    "weather = pd.read_csv('./data/2000-01~2021-11m.csv', encoding='cp949')\n",
    "\n",
    "print(weather)\n",
    "# 주어진 가스 데이터는 2000년 1월 ~ 2021년 11월 도시가스판매현황"
   ]
  },
  {
   "cell_type": "code",
   "execution_count": null,
   "metadata": {},
   "outputs": [],
   "source": [
    "# 날씨 데이터 전처리\n",
    "weather['year'] = pd.to_numeric(weather['일시'].str.split('-').str.get(0))\n",
    "weather['month'] = pd.to_numeric(weather['일시'].str.split('-').str.get(1))\n",
    "weather['meanTemp'] = weather['평균기온(°C)']\n",
    "weather['meanHighTemp'] = weather['평균최고기온(°C)']\n",
    "weather['meanLowTemp'] = weather['평균최저기온(°C)']\n",
    "# weather['highTemp'] = weather['최고기온(°C)']\n",
    "# weather['lowTemp'] = weather['최저기온(°C)']\n",
    "\n",
    "# 날씨 데이터에서 year, month, meanTemp, meanHighTemp, meanLowTemp 만 따로 분리\n",
    "weather = weather.loc[:,['year','month','meanTemp','meanHighTemp','meanLowTemp']]"
   ]
  }
 ],
 "metadata": {
  "interpreter": {
   "hash": "a7f0c004579426d1d1b9c1f26127beb3fae80a58985b6f5c691fc41cfc2b2a52"
  },
  "kernelspec": {
   "display_name": "Python 3.8.12 64-bit ('tf_cpu': conda)",
   "language": "python",
   "name": "python3"
  },
  "language_info": {
   "codemirror_mode": {
    "name": "ipython",
    "version": 3
   },
   "file_extension": ".py",
   "mimetype": "text/x-python",
   "name": "python",
   "nbconvert_exporter": "python",
   "pygments_lexer": "ipython3",
   "version": "3.8.12"
  },
  "orig_nbformat": 4
 },
 "nbformat": 4,
 "nbformat_minor": 2
}
