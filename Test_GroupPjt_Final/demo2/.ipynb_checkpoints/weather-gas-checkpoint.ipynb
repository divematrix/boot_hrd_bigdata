{
 "cells": [
  {
   "cell_type": "markdown",
   "metadata": {},
   "source": [
    "## 시계열분석을 통한 가스 소비량 예측"
   ]
  },
  {
   "cell_type": "markdown",
   "metadata": {},
   "source": [
    "### Index\n",
    "#### 1. 데이터 수집\n",
    "#### 2. 데이터 탐색\n",
    "#### 3. 분석을 위한 데이터 전처리\n",
    "#### 4. 머신러닝 모델 구조 생성\n",
    "#### 5. 머신러닝 훈련 데이터셋 학습\n",
    "#### 6. 머신러닝 시험 데이터셋 예측\n",
    "#### 7. 모델 평가"
   ]
  },
  {
   "cell_type": "code",
   "execution_count": 5,
   "metadata": {},
   "outputs": [],
   "source": [
    "# 1. 데이터 수집\n",
    "import pandas as pd\n",
    "\n",
    "\n",
    "\n"
   ]
  },
  {
   "cell_type": "code",
   "execution_count": 8,
   "metadata": {},
   "outputs": [
    {
     "data": {
      "text/html": [
       "<div>\n",
       "<style scoped>\n",
       "    .dataframe tbody tr th:only-of-type {\n",
       "        vertical-align: middle;\n",
       "    }\n",
       "\n",
       "    .dataframe tbody tr th {\n",
       "        vertical-align: top;\n",
       "    }\n",
       "\n",
       "    .dataframe thead th {\n",
       "        text-align: right;\n",
       "    }\n",
       "</style>\n",
       "<table border=\"1\" class=\"dataframe\">\n",
       "  <thead>\n",
       "    <tr style=\"text-align: right;\">\n",
       "      <th></th>\n",
       "      <th>연</th>\n",
       "      <th>월</th>\n",
       "      <th>강원</th>\n",
       "      <th>서울</th>\n",
       "      <th>경기</th>\n",
       "      <th>인천</th>\n",
       "      <th>경남</th>\n",
       "      <th>경북</th>\n",
       "      <th>광주</th>\n",
       "      <th>대구</th>\n",
       "      <th>대전</th>\n",
       "      <th>부산</th>\n",
       "      <th>세종</th>\n",
       "      <th>울산</th>\n",
       "      <th>전남</th>\n",
       "      <th>전북</th>\n",
       "      <th>제주</th>\n",
       "      <th>충남</th>\n",
       "      <th>충북</th>\n",
       "    </tr>\n",
       "  </thead>\n",
       "  <tbody>\n",
       "    <tr>\n",
       "      <th>0</th>\n",
       "      <td>1989</td>\n",
       "      <td>1</td>\n",
       "      <td>326</td>\n",
       "      <td>37560</td>\n",
       "      <td>0</td>\n",
       "      <td>10468</td>\n",
       "      <td>2942</td>\n",
       "      <td>150</td>\n",
       "      <td>2203</td>\n",
       "      <td>1940</td>\n",
       "      <td>322</td>\n",
       "      <td>3112</td>\n",
       "      <td>0</td>\n",
       "      <td>2006</td>\n",
       "      <td>764</td>\n",
       "      <td>586</td>\n",
       "      <td>0</td>\n",
       "      <td>0</td>\n",
       "      <td>0</td>\n",
       "    </tr>\n",
       "    <tr>\n",
       "      <th>1</th>\n",
       "      <td>1989</td>\n",
       "      <td>2</td>\n",
       "      <td>272</td>\n",
       "      <td>33566</td>\n",
       "      <td>0</td>\n",
       "      <td>9211</td>\n",
       "      <td>2940</td>\n",
       "      <td>139</td>\n",
       "      <td>2034</td>\n",
       "      <td>1756</td>\n",
       "      <td>345</td>\n",
       "      <td>3052</td>\n",
       "      <td>0</td>\n",
       "      <td>1900</td>\n",
       "      <td>722</td>\n",
       "      <td>864</td>\n",
       "      <td>0</td>\n",
       "      <td>0</td>\n",
       "      <td>0</td>\n",
       "    </tr>\n",
       "    <tr>\n",
       "      <th>2</th>\n",
       "      <td>1989</td>\n",
       "      <td>3</td>\n",
       "      <td>253</td>\n",
       "      <td>30224</td>\n",
       "      <td>0</td>\n",
       "      <td>9608</td>\n",
       "      <td>2702</td>\n",
       "      <td>271</td>\n",
       "      <td>1940</td>\n",
       "      <td>1896</td>\n",
       "      <td>268</td>\n",
       "      <td>3714</td>\n",
       "      <td>0</td>\n",
       "      <td>2135</td>\n",
       "      <td>734</td>\n",
       "      <td>980</td>\n",
       "      <td>0</td>\n",
       "      <td>0</td>\n",
       "      <td>0</td>\n",
       "    </tr>\n",
       "    <tr>\n",
       "      <th>3</th>\n",
       "      <td>1989</td>\n",
       "      <td>4</td>\n",
       "      <td>163</td>\n",
       "      <td>18668</td>\n",
       "      <td>0</td>\n",
       "      <td>7736</td>\n",
       "      <td>1951</td>\n",
       "      <td>239</td>\n",
       "      <td>1225</td>\n",
       "      <td>1416</td>\n",
       "      <td>257</td>\n",
       "      <td>2497</td>\n",
       "      <td>0</td>\n",
       "      <td>1402</td>\n",
       "      <td>533</td>\n",
       "      <td>600</td>\n",
       "      <td>0</td>\n",
       "      <td>0</td>\n",
       "      <td>0</td>\n",
       "    </tr>\n",
       "    <tr>\n",
       "      <th>4</th>\n",
       "      <td>1989</td>\n",
       "      <td>5</td>\n",
       "      <td>134</td>\n",
       "      <td>15790</td>\n",
       "      <td>0</td>\n",
       "      <td>7091</td>\n",
       "      <td>1564</td>\n",
       "      <td>359</td>\n",
       "      <td>903</td>\n",
       "      <td>1270</td>\n",
       "      <td>196</td>\n",
       "      <td>2268</td>\n",
       "      <td>0</td>\n",
       "      <td>1445</td>\n",
       "      <td>474</td>\n",
       "      <td>461</td>\n",
       "      <td>0</td>\n",
       "      <td>0</td>\n",
       "      <td>0</td>\n",
       "    </tr>\n",
       "  </tbody>\n",
       "</table>\n",
       "</div>"
      ],
      "text/plain": [
       "      연  월   강원     서울  경기     인천    경남   경북    광주    대구   대전    부산  세종    울산  \\\n",
       "0  1989  1  326  37560   0  10468  2942  150  2203  1940  322  3112   0  2006   \n",
       "1  1989  2  272  33566   0   9211  2940  139  2034  1756  345  3052   0  1900   \n",
       "2  1989  3  253  30224   0   9608  2702  271  1940  1896  268  3714   0  2135   \n",
       "3  1989  4  163  18668   0   7736  1951  239  1225  1416  257  2497   0  1402   \n",
       "4  1989  5  134  15790   0   7091  1564  359   903  1270  196  2268   0  1445   \n",
       "\n",
       "    전남   전북  제주  충남  충북  \n",
       "0  764  586   0   0   0  \n",
       "1  722  864   0   0   0  \n",
       "2  734  980   0   0   0  \n",
       "3  533  600   0   0   0  \n",
       "4  474  461   0   0   0  "
      ]
     },
     "execution_count": 8,
     "metadata": {},
     "output_type": "execute_result"
    }
   ],
   "source": [
    "# 가스공사 월간 시도별 도시가스 판매현황 로드\n",
    "dataGas = pd.read_csv('./data/gasData.csv', encoding='cp949')\n",
    "\n",
    "dataGas.head()"
   ]
  },
  {
   "cell_type": "code",
   "execution_count": 3,
   "metadata": {},
   "outputs": [],
   "source": [
    "# 데이터셋 전처리"
   ]
  },
  {
   "cell_type": "code",
   "execution_count": 4,
   "metadata": {},
   "outputs": [],
   "source": [
    "# 데이터셋 훈련데이터셋, 검증데이터셋으로 분리"
   ]
  },
  {
   "cell_type": "code",
   "execution_count": 5,
   "metadata": {},
   "outputs": [],
   "source": [
    "# 머신러닝 모델 구성"
   ]
  },
  {
   "cell_type": "code",
   "execution_count": 6,
   "metadata": {},
   "outputs": [],
   "source": [
    "# 머신러닝 모델 컴파일"
   ]
  },
  {
   "cell_type": "code",
   "execution_count": 7,
   "metadata": {},
   "outputs": [],
   "source": [
    "# 머신러닝 모델 학습"
   ]
  },
  {
   "cell_type": "code",
   "execution_count": null,
   "metadata": {},
   "outputs": [],
   "source": [
    "# 모델로 검증 데이터셋 확인"
   ]
  }
 ],
 "metadata": {
  "interpreter": {
   "hash": "a7f0c004579426d1d1b9c1f26127beb3fae80a58985b6f5c691fc41cfc2b2a52"
  },
  "kernelspec": {
   "display_name": "Python [conda env:tf_cpu] *",
   "language": "python",
   "name": "conda-env-tf_cpu-py"
  },
  "language_info": {
   "codemirror_mode": {
    "name": "ipython",
    "version": 3
   },
   "file_extension": ".py",
   "mimetype": "text/x-python",
   "name": "python",
   "nbconvert_exporter": "python",
   "pygments_lexer": "ipython3",
   "version": "3.8.12"
  }
 },
 "nbformat": 4,
 "nbformat_minor": 2
}
