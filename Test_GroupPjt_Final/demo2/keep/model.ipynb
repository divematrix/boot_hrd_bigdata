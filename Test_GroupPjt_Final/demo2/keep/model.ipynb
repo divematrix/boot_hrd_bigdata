{
 "cells": [
  {
   "cell_type": "code",
   "execution_count": null,
   "metadata": {},
   "outputs": [],
   "source": [
    "# 정의할 변수\n",
    "입력노드갯수=\n",
    "히든노드갯수=\n",
    "출력노드갯수=\n",
    "\n",
    "학습셋독립변수=\n",
    "학습셋종속변수=\n",
    "학습횟수=\n",
    "\n",
    "시험셋독립변수=\n",
    "시험셋종속변수="
   ]
  },
  {
   "cell_type": "code",
   "execution_count": null,
   "metadata": {},
   "outputs": [],
   "source": [
    "# 텐서플로우 임포트\n",
    "import tesorflow as tf"
   ]
  },
  {
   "cell_type": "code",
   "execution_count": null,
   "metadata": {},
   "outputs": [],
   "source": [
    "drop_rate=0.1\n",
    "\n",
    "# 레이어 구성\n",
    "# L1\n",
    "X = tf.keras.layers.Input(shape=[입력노드갯수])\n",
    "H = tf.keras.layers.BatchNarmalization(X)\n",
    "H = tf.keras.layers.Activation('relu')(H)\n",
    "\n",
    "# L2\n",
    "H = tf.keras.layers.Dense(히든노드갯수)(H)\n",
    "H = tf.keras.layers.BatchNarmalization(H)\n",
    "H = tf.keras.layers.Activation('relu')(H)\n",
    "\n",
    "# L3\n",
    "H = tf.keras.layers.Dense(히든노드갯수)(H)\n",
    "H = tf.keras.layers.BatchNarmalization(H)\n",
    "H = tf.keras.layers.Activation('relu')(H)\n",
    "H = tf.keras.layers.Dropout(drop_rate)\n",
    "\n",
    "# L4\n",
    "H = tf.keras.layers.Dense(히든노드갯수)(H)\n",
    "H = tf.keras.layers.BatchNarmalization(H)\n",
    "H = tf.keras.layers.Activation('relu')(H)\n",
    "\n",
    "# L5\n",
    "H = tf.keras.layers.Dense(출력노드갯수)(H)\n",
    "H = tf.keras.layers.BatchNarmalization(H)\n",
    "Y = tf.keras.layers.Activation('softmax')(H)"
   ]
  },
  {
   "cell_type": "code",
   "execution_count": null,
   "metadata": {},
   "outputs": [],
   "source": [
    "# 모델 생성\n",
    "model = tf.keras.models.Model(X,Y)"
   ]
  },
  {
   "cell_type": "code",
   "execution_count": null,
   "metadata": {},
   "outputs": [],
   "source": [
    "# 모델 컴파일\n",
    "model.compile(loss='categorical_crossentropy', optimizer=tf.keras.optimizers.Adam(lr=0.1), metrics='accuracy')"
   ]
  },
  {
   "cell_type": "code",
   "execution_count": null,
   "metadata": {},
   "outputs": [],
   "source": [
    "# 기계학습\n",
    "model.fit(학습셋독립변수, 학습셋종속변수, epochs=학습횟수)"
   ]
  },
  {
   "cell_type": "code",
   "execution_count": null,
   "metadata": {},
   "outputs": [],
   "source": [
    "# 예측\n",
    "시험셋예측결과 = model.predict(시험셋독립변수)\n",
    "print(시험셋예측결과)"
   ]
  },
  {
   "cell_type": "code",
   "execution_count": null,
   "metadata": {},
   "outputs": [],
   "source": [
    "# 평가 (loss, accuracy 출력)\n",
    "model.evaluate(시험셋독립변수, 시험셋예측결과)"
   ]
  },
  {
   "cell_type": "code",
   "execution_count": null,
   "metadata": {},
   "outputs": [],
   "source": [
    "# 시각화\n",
    "import matplotlib.pyplot as plt\n",
    "plt.plot(history.history['loss'])\n",
    "plt.title('그래프 타이틀')\n",
    "plt.xlabel('x축 타이틀');plt.ylabel('y축 타이틀')\n",
    "plt.legend(['범위명 1', '범위명 2'], loc='라벨 위치')\n",
    "plt.show()"
   ]
  }
 ],
 "metadata": {
  "language_info": {
   "name": "python"
  },
  "orig_nbformat": 4
 },
 "nbformat": 4,
 "nbformat_minor": 2
}
