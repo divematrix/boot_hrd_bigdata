{
 "cells": [
  {
   "cell_type": "code",
   "execution_count": 50,
   "metadata": {},
   "outputs": [],
   "source": [
    "import numpy as np\n",
    "import pandas as pd\n",
    "\n",
    "# weather 데이터 1\n",
    "weather = pd.read_csv('./data/2000-01~2021-11m.csv', encoding='cp949')\n",
    "\n",
    "# 날씨 데이터 1 개요\n",
    "# weather.info()\n",
    "# weather.head()\n",
    "# weather.tail()"
   ]
  },
  {
   "cell_type": "code",
   "execution_count": 51,
   "metadata": {},
   "outputs": [
    {
     "name": "stdout",
     "output_type": "stream",
     "text": [
      "<class 'pandas.core.frame.DataFrame'>\n",
      "RangeIndex: 263 entries, 0 to 262\n",
      "Data columns (total 14 columns):\n",
      " #   Column               Non-Null Count  Dtype         \n",
      "---  ------               --------------  -----         \n",
      " 0   지점                   263 non-null    int64         \n",
      " 1   지점명                  263 non-null    object        \n",
      " 2   일시                   263 non-null    object        \n",
      " 3   평균기온(°C)             263 non-null    float64       \n",
      " 4   평균최고기온(°C)           263 non-null    float64       \n",
      " 5   평균최저기온(°C)           263 non-null    float64       \n",
      " 6   최고기온(°C)             263 non-null    float64       \n",
      " 7   최저기온(°C)             263 non-null    float64       \n",
      " 8   최고기온 나타난날(yyyymmdd)  263 non-null    int64         \n",
      " 9   최저기온 나타난날(yyyymmdd)  263 non-null    int64         \n",
      " 10  datetime             263 non-null    datetime64[ns]\n",
      " 11  mean                 263 non-null    float64       \n",
      " 12  meanHigh             263 non-null    float64       \n",
      " 13  meanLow              263 non-null    float64       \n",
      "dtypes: datetime64[ns](1), float64(8), int64(3), object(2)\n",
      "memory usage: 28.9+ KB\n"
     ]
    }
   ],
   "source": [
    "# weather['year'] = weather.일시.str.split('-').str.get(0)\n",
    "# weather['month'] = weather.일시.str.split('-').str.get(1)\n",
    "weather['datetime'] = pd.to_datetime(weather['일시'], format='%Y-%m')\n",
    "weather['mean'] = weather['평균기온(°C)']\n",
    "weather['meanHigh'] = weather['평균최고기온(°C)']\n",
    "weather['meanLow'] = weather['평균최저기온(°C)']\n",
    "\n",
    "# weather.set_index(['year','month'], inplace=True)\n",
    "weather.info()"
   ]
  },
  {
   "cell_type": "code",
   "execution_count": 52,
   "metadata": {},
   "outputs": [],
   "source": [
    "weather = weather[['datetime','mean']]\n",
    "# weather.head()\n",
    "# weather.tail()\n",
    "weather.set_index('datetime', inplace=True)"
   ]
  },
  {
   "cell_type": "code",
   "execution_count": 53,
   "metadata": {},
   "outputs": [],
   "source": [
    "from statsmodels.tsa.seasonal import seasonal_decompose\n",
    "result = seasonal_decompose(weather['mean'], model='additive', period=12, extrapolate_trend='freq')"
   ]
  },
  {
   "cell_type": "code",
   "execution_count": 54,
   "metadata": {},
   "outputs": [],
   "source": [
    "from statsmodels.tsa.stattools import adfuller\n",
    "result = adfuller(weather)"
   ]
  },
  {
   "cell_type": "code",
   "execution_count": 55,
   "metadata": {},
   "outputs": [],
   "source": [
    "weather_diff = weather - weather.shift()"
   ]
  },
  {
   "cell_type": "code",
   "execution_count": 60,
   "metadata": {},
   "outputs": [
    {
     "name": "stderr",
     "output_type": "stream",
     "text": [
      "C:\\Users\\spell\\AppData\\Local\\Temp/ipykernel_14740/2327517479.py:2: FutureWarning: The pandas.datetime class is deprecated and will be removed from pandas in a future version. Import from datetime module instead.\n",
      "  from pandas import datetime\n",
      "C:\\DevEnv\\Anaconda3\\envs\\tf_cpu\\lib\\site-packages\\statsmodels\\tsa\\base\\tsa_model.py:524: ValueWarning: No frequency information was provided, so inferred frequency MS will be used.\n",
      "  warnings.warn('No frequency information was'\n"
     ]
    }
   ],
   "source": [
    "from statsmodels.tsa.arima_model import ARIMA\n",
    "from pandas import datetime\n",
    "\n",
    "model = ARIMA(weather, order=(1,0,1))\n",
    "model_fit = model.fit(disp=0)\n"
   ]
  },
  {
   "cell_type": "code",
   "execution_count": null,
   "metadata": {},
   "outputs": [],
   "source": [
    "\n",
    "start_index = datetime(2000, 1, 1)\n",
    "end_index = datetime(2018, 12, 1)"
   ]
  },
  {
   "cell_type": "code",
   "execution_count": 59,
   "metadata": {},
   "outputs": [
    {
     "name": "stderr",
     "output_type": "stream",
     "text": [
      "C:\\DevEnv\\Anaconda3\\envs\\tf_cpu\\lib\\site-packages\\statsmodels\\tsa\\base\\tsa_model.py:132: FutureWarning: The 'freq' argument in Timestamp is deprecated and will be removed in a future version.\n",
      "  date_key = Timestamp(key, freq=base_index.freq)\n"
     ]
    }
   ],
   "source": [
    "forecast = model_fit.predict(start=start_index, end=end_index, typ='levels')"
   ]
  },
  {
   "cell_type": "code",
   "execution_count": null,
   "metadata": {},
   "outputs": [],
   "source": []
  },
  {
   "cell_type": "code",
   "execution_count": null,
   "metadata": {},
   "outputs": [],
   "source": [
    "################################# 시험작 > 실패 부분 ###############################3"
   ]
  },
  {
   "cell_type": "code",
   "execution_count": 41,
   "metadata": {},
   "outputs": [],
   "source": [
    "# 2000년 1월 ~ 2019년 12월\n",
    "trainSet = weather.loc['2000':'2019']\n",
    "# 2019년 1월 ~ 2020년 12월\n",
    "testSet = weather.loc['2019':'2020']\n",
    "\n",
    "# trainSet.shape\n",
    "# trainSet.head()\n",
    "# trainSet.tail()\n",
    "# testSet.shape\n",
    "# testSet.head()\n",
    "# testSet.tail()"
   ]
  },
  {
   "cell_type": "code",
   "execution_count": 33,
   "metadata": {},
   "outputs": [],
   "source": [
    "# 데이터 정규화\n",
    "from sklearn.preprocessing import MinMaxScaler\n",
    "\n",
    "scaler = MinMaxScaler()\n",
    "trainSet = scaler.fit_transform(trainSet)\n",
    "testSet = scaler.fit_transform(testSet)"
   ]
  },
  {
   "cell_type": "code",
   "execution_count": null,
   "metadata": {},
   "outputs": [],
   "source": [
    "from statsmodels.tsa.arima_model import ARIMA\n",
    "from pandas import datetime\n",
    "\n",
    "model = ARIMA(trainSet, order=(1,0,1))\n",
    "model_fit = model.fit(disp=0)"
   ]
  },
  {
   "cell_type": "code",
   "execution_count": 10,
   "metadata": {},
   "outputs": [],
   "source": [
    "# build datasets\n",
    "def build_dataset(time_series, seq_length):\n",
    "    dataX = []\n",
    "    dataY = []\n",
    "    for i in range(0, len(time_series) - seq_length):\n",
    "        x = time_series[i:i + seq_length, :]\n",
    "        y = time_series[i + seq_length, :]\n",
    "        dataX.append(x)\n",
    "        dataY.append(y)\n",
    "    return np.array(dataX), np.array(dataY)"
   ]
  },
  {
   "cell_type": "code",
   "execution_count": null,
   "metadata": {},
   "outputs": [],
   "source": [
    "seq_length = 3\n",
    "trainX, trainY = build_dataset(trainSet, seq_length)\n",
    "testX, testY = build_dataset(testSet, seq_length)\n",
    "\n",
    "print(trainX.shape)\n",
    "print(trainY.shape)\n",
    "print(testX.shape)\n",
    "print(testY.shape)"
   ]
  }
 ],
 "metadata": {
  "interpreter": {
   "hash": "a7f0c004579426d1d1b9c1f26127beb3fae80a58985b6f5c691fc41cfc2b2a52"
  },
  "kernelspec": {
   "display_name": "Python 3.8.12 64-bit ('tf_cpu': conda)",
   "language": "python",
   "name": "python3"
  },
  "language_info": {
   "codemirror_mode": {
    "name": "ipython",
    "version": 3
   },
   "file_extension": ".py",
   "mimetype": "text/x-python",
   "name": "python",
   "nbconvert_exporter": "python",
   "pygments_lexer": "ipython3",
   "version": "3.8.12"
  },
  "orig_nbformat": 4
 },
 "nbformat": 4,
 "nbformat_minor": 2
}
