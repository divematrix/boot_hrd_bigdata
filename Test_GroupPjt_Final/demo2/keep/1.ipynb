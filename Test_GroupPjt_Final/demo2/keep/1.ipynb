{
 "cells": [
  {
   "cell_type": "code",
   "execution_count": null,
   "metadata": {},
   "outputs": [],
   "source": [
    "# 3-1. 머신러닝 모델 객체 생성\n",
    "model = tf.keras.Sequential()\n",
    "\n",
    "# 레이어\n",
    "# tf.keras.layers.Dense()\n",
    "# tf.keras.layers.BatchNarmalization()\n",
    "# tf.keras.layers.Activation('활성함수')\n",
    "# tf.keras.layers.Dropout(drop_rate)\n",
    "\n",
    "# L1\n",
    "tf.model.add(tf.keras.layers.Dense(input_dim=입력, units=출력, kernel_initializer='glorot_normal'))\n",
    "tf.model.add(tf.keras.layers.BatchNarmalization())\n",
    "tf.model.add(tf.keras.layers.Activation('relu'))\n",
    "\n",
    "# L2\n",
    "tf.model.add(tf.keras.layers.Dense())\n",
    "tf.model.add(tf.keras.layers.BatchNarmalization())\n",
    "tf.model.add(tf.keras.layers.Activation('relu'))"
   ]
  },
  {
   "cell_type": "code",
   "execution_count": null,
   "metadata": {},
   "outputs": [],
   "source": [
    "# 머신러닝 모델 컴파일\n",
    "model.compile(loss='categorical_crossentropy', optimizer=tf.keras.optimizers.Adam(lr=0.1), metrics='accuracy')"
   ]
  },
  {
   "cell_type": "code",
   "execution_count": null,
   "metadata": {},
   "outputs": [],
   "source": [
    "# 머신러닝 모델 학습\n",
    "# model.fit(훈련데이터독립변수,훈련데이터종속변수,epochs=훈련횟수)"
   ]
  }
 ],
 "metadata": {
  "language_info": {
   "name": "python"
  },
  "orig_nbformat": 4
 },
 "nbformat": 4,
 "nbformat_minor": 2
}
