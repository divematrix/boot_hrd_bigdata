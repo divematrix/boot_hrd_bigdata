{
 "cells": [
  {
   "cell_type": "markdown",
   "metadata": {},
   "source": [
    "# 조건문"
   ]
  },
  {
   "cell_type": "code",
   "execution_count": 1,
   "metadata": {},
   "outputs": [
    {
     "name": "stdout",
     "output_type": "stream",
     "text": [
      "수를 입력하세요: \n",
      "3 / 35 = 0.08571428571428572\n"
     ]
    }
   ],
   "source": [
    "import sys\n",
    "\n",
    "print('수를 입력하세요: ')\n",
    "\n",
    "num = int(input())\n",
    "\n",
    "if num == 0:\n",
    "    print('0은 나눗셈에 이용할 수 없습니다.')\n",
    "    sys.exit(0)\n",
    "    \n",
    "print('3 /', num, '=', 3 / num)"
   ]
  },
  {
   "cell_type": "code",
   "execution_count": 2,
   "metadata": {},
   "outputs": [
    {
     "name": "stdout",
     "output_type": "stream",
     "text": [
      "수를 입력하세요: \n",
      "3 / 25 = 0.12\n",
      "프로그램 종료.\n"
     ]
    }
   ],
   "source": [
    "print('수를 입력하세요: ')\n",
    "num = int(input())\n",
    "\n",
    "if num == 0:\n",
    "    print('0은 나눗셈에 이용할 수 없습니다.')\n",
    "else:\n",
    "    print('3 /', num, '=', 3 / num)\n",
    "    \n",
    "print('프로그램 종료.')"
   ]
  },
  {
   "cell_type": "code",
   "execution_count": 3,
   "metadata": {},
   "outputs": [
    {
     "name": "stdout",
     "output_type": "stream",
     "text": [
      "요일(월~일)을 입력하세요: \n",
      "잘못 입력된 요일입니다.\n"
     ]
    }
   ],
   "source": [
    "print('요일(월~일)을 입력하세요: ')\n",
    "dow = input()\n",
    "\n",
    "if dow == '월':\n",
    "    print('Monday')\n",
    "elif dow == '화':\n",
    "    print('Tuesday')\n",
    "elif dow == '수':\n",
    "    print('Wednesday')\n",
    "elif dow == '목':\n",
    "    print('Thursday')\n",
    "elif dow == '금':\n",
    "    print('Friday')\n",
    "elif dow == '토':\n",
    "    print('Saturday')\n",
    "elif dow == '일':\n",
    "    print('Sunday')\n",
    "else:\n",
    "    print('잘못 입력된 요일입니다.')"
   ]
  },
  {
   "cell_type": "code",
   "execution_count": 4,
   "metadata": {},
   "outputs": [
    {
     "name": "stdout",
     "output_type": "stream",
     "text": [
      "수를 입력하세요: \n",
      "10보다 큰 짝수\n"
     ]
    }
   ],
   "source": [
    "print('수를 입력하세요: ')\n",
    "num = int(input())\n",
    "\n",
    "if num > 10:\n",
    "    if num % 2 == 0:\n",
    "        print('10보다 큰 짝수')\n",
    "    else:\n",
    "        print('10보다 큰 홀수')\n",
    "else:\n",
    "    if num % 2 == 0:\n",
    "        print('10이하의 짝수')\n",
    "    else:\n",
    "        print('10이하의 홀수')"
   ]
  },
  {
   "cell_type": "code",
   "execution_count": 5,
   "metadata": {},
   "outputs": [
    {
     "name": "stdout",
     "output_type": "stream",
     "text": [
      "수를 입력하세요: \n",
      "10보다 큰 홀수\n"
     ]
    }
   ],
   "source": [
    "print('수를 입력하세요: ')\n",
    "num = int(input())\n",
    "\n",
    "if num > 10 and num % 2 == 0:\n",
    "    print('10보다 큰 짝수')\n",
    "elif num > 10 and num % 2 != 0:\n",
    "    print('10보다 큰 홀수')\n",
    "elif num % 2 == 0:\n",
    "    print('10이하의 짝수')\n",
    "else:\n",
    "    print('10이하의 홀수')"
   ]
  },
  {
   "cell_type": "markdown",
   "metadata": {},
   "source": [
    "# 반복문(while, for)"
   ]
  },
  {
   "cell_type": "code",
   "execution_count": 6,
   "metadata": {},
   "outputs": [
    {
     "name": "stdout",
     "output_type": "stream",
     "text": [
      "몇 번 반복할까요? : \n",
      "1회 반복\n",
      "2회 반복\n",
      "3회 반복\n",
      "4회 반복\n",
      "5회 반복\n",
      "6회 반복\n",
      "7회 반복\n",
      "8회 반복\n",
      "9회 반복\n",
      "10회 반복\n",
      "11회 반복\n",
      "반복 종료.\n"
     ]
    }
   ],
   "source": [
    "print('몇 번 반복할까요? : ')\n",
    "\n",
    "limit = int(input())\n",
    "count = 0\n",
    "\n",
    "while count < limit:\n",
    "    count = count + 1\n",
    "    print('{0}회 반복'.format(count))\n",
    "    \n",
    "print('반복 종료.')\n",
    "\n"
   ]
  },
  {
   "cell_type": "code",
   "execution_count": 7,
   "metadata": {},
   "outputs": [
    {
     "name": "stdout",
     "output_type": "stream",
     "text": [
      "반복을 계속할까요?[예/아니오]: \n",
      "반복 종료.\n"
     ]
    }
   ],
   "source": [
    "while True:\n",
    "    print('반복을 계속할까요?[예/아니오]: ')\n",
    "    answer = input()\n",
    "    \n",
    "    if answer == '예':\n",
    "        print('반복을 계속합니다.')\n",
    "    elif answer == '아니오':\n",
    "        break\n",
    "    else:\n",
    "        print('정상적인 답변이 아닙니다.')\n",
    "        \n",
    "print('반복 종료.')"
   ]
  },
  {
   "cell_type": "code",
   "execution_count": 8,
   "metadata": {},
   "outputs": [
    {
     "name": "stdout",
     "output_type": "stream",
     "text": [
      "10\n",
      "20\n",
      "30\n"
     ]
    }
   ],
   "source": [
    "for i in (10, 20, 30):\n",
    "    print(i)"
   ]
  },
  {
   "cell_type": "code",
   "execution_count": 9,
   "metadata": {},
   "outputs": [
    {
     "name": "stdout",
     "output_type": "stream",
     "text": [
      "더조은\n",
      "컴퓨터\n",
      "아카데미\n"
     ]
    }
   ],
   "source": [
    "for s in ['더조은', '컴퓨터', '아카데미']:\n",
    "    print(s)"
   ]
  },
  {
   "cell_type": "code",
   "execution_count": 10,
   "metadata": {},
   "outputs": [
    {
     "name": "stdout",
     "output_type": "stream",
     "text": [
      "더\n",
      "조\n",
      "은\n",
      " \n",
      "컴\n",
      "퓨\n",
      "터\n",
      " \n",
      "아\n",
      "카\n",
      "데\n",
      "미\n"
     ]
    }
   ],
   "source": [
    "for s in '더조은 컴퓨터 아카데미':\n",
    "    print(s)"
   ]
  },
  {
   "cell_type": "code",
   "execution_count": 11,
   "metadata": {},
   "outputs": [
    {
     "name": "stdout",
     "output_type": "stream",
     "text": [
      "0\n",
      "1\n",
      "2\n",
      "3\n",
      "4\n"
     ]
    }
   ],
   "source": [
    "for i in range(0, 5, 1):\n",
    "    print(i)"
   ]
  },
  {
   "cell_type": "code",
   "execution_count": 12,
   "metadata": {},
   "outputs": [
    {
     "name": "stdout",
     "output_type": "stream",
     "text": [
      "0\n",
      "2\n",
      "4\n",
      "6\n",
      "8\n"
     ]
    }
   ],
   "source": [
    "for i in range(0, 10, 2):\n",
    "    print(i)"
   ]
  },
  {
   "cell_type": "code",
   "execution_count": 13,
   "metadata": {},
   "outputs": [
    {
     "name": "stdout",
     "output_type": "stream",
     "text": [
      "0\n",
      "1\n",
      "2\n",
      "3\n",
      "4\n"
     ]
    }
   ],
   "source": [
    "for i in range(0, 5):\n",
    "    print(i)"
   ]
  },
  {
   "cell_type": "code",
   "execution_count": 14,
   "metadata": {},
   "outputs": [
    {
     "name": "stdout",
     "output_type": "stream",
     "text": [
      "0\n",
      "1\n",
      "2\n",
      "3\n",
      "4\n"
     ]
    }
   ],
   "source": [
    "for i in range(5):\n",
    "    print(i)"
   ]
  },
  {
   "cell_type": "code",
   "execution_count": 15,
   "metadata": {},
   "outputs": [
    {
     "ename": "TypeError",
     "evalue": "'int' object is not iterable",
     "output_type": "error",
     "traceback": [
      "\u001b[1;31m---------------------------------------------------------------------------\u001b[0m",
      "\u001b[1;31mTypeError\u001b[0m                                 Traceback (most recent call last)",
      "\u001b[1;32m~\\AppData\\Local\\Temp/ipykernel_15132/975737822.py\u001b[0m in \u001b[0;36m<module>\u001b[1;34m\u001b[0m\n\u001b[0;32m      1\u001b[0m \u001b[1;31m# 주의\u001b[0m\u001b[1;33m\u001b[0m\u001b[1;33m\u001b[0m\u001b[1;33m\u001b[0m\u001b[0m\n\u001b[1;32m----> 2\u001b[1;33m \u001b[1;32mfor\u001b[0m \u001b[0mi\u001b[0m \u001b[1;32min\u001b[0m \u001b[1;36m5\u001b[0m\u001b[1;33m:\u001b[0m\u001b[1;33m\u001b[0m\u001b[1;33m\u001b[0m\u001b[0m\n\u001b[0m\u001b[0;32m      3\u001b[0m     \u001b[0mprint\u001b[0m\u001b[1;33m(\u001b[0m\u001b[0mi\u001b[0m\u001b[1;33m)\u001b[0m\u001b[1;33m\u001b[0m\u001b[1;33m\u001b[0m\u001b[0m\n",
      "\u001b[1;31mTypeError\u001b[0m: 'int' object is not iterable"
     ]
    }
   ],
   "source": [
    "# 주의\n",
    "for i in 5:\n",
    "    print(i)"
   ]
  },
  {
   "cell_type": "code",
   "execution_count": null,
   "metadata": {},
   "outputs": [
    {
     "name": "stdout",
     "output_type": "stream",
     "text": [
      "*\n",
      "**\n",
      "***\n",
      "****\n",
      "*****\n"
     ]
    }
   ],
   "source": [
    "for i in range(1,6):\n",
    "    for j in range(i):\n",
    "        print(\"*\", end=\"\")\n",
    "    print()"
   ]
  },
  {
   "cell_type": "code",
   "execution_count": null,
   "metadata": {},
   "outputs": [
    {
     "name": "stdout",
     "output_type": "stream",
     "text": [
      "애플:www.apple.com\n",
      "파이썬:www.python.org\n",
      "네이버:www.naver.com\n"
     ]
    }
   ],
   "source": [
    "dic = {'애플':'www.apple.com', '파이썬':'www.python.org', '네이버':'www.naver.com'}\n",
    "\n",
    "for k, v in dic.items():\n",
    "    print(\"{0}:{1}\".format(k, v))"
   ]
  },
  {
   "cell_type": "code",
   "execution_count": null,
   "metadata": {},
   "outputs": [
    {
     "name": "stdout",
     "output_type": "stream",
     "text": [
      "0\n",
      "2\n",
      "4\n",
      "6\n",
      "8\n"
     ]
    }
   ],
   "source": [
    "# continue\n",
    "for i in range(10):\n",
    "    if i % 2 == 1:\n",
    "        continue\n",
    "        \n",
    "    print(i)"
   ]
  },
  {
   "cell_type": "code",
   "execution_count": null,
   "metadata": {},
   "outputs": [
    {
     "name": "stdout",
     "output_type": "stream",
     "text": [
      "1\n",
      "2\n",
      "3\n",
      "4\n",
      "5\n",
      "6\n",
      "7\n",
      "8\n",
      "9\n",
      "i가 10이 됐습니다. 반복문을 중단합니다.\n",
      "프로그램 종료.\n"
     ]
    }
   ],
   "source": [
    "# break\n",
    "i = 0\n",
    "\n",
    "while True:\n",
    "    i = i + 1\n",
    "    \n",
    "    if i == 10:\n",
    "        print('i가 {0}이 됐습니다. 반복문을 중단합니다.'.format(i))\n",
    "        break\n",
    "        \n",
    "    print(i)\n",
    "    \n",
    "print('프로그램 종료.')"
   ]
  }
 ],
 "metadata": {
  "kernelspec": {
   "display_name": "Python 3 (ipykernel)",
   "language": "python",
   "name": "python3"
  },
  "language_info": {
   "codemirror_mode": {
    "name": "ipython",
    "version": 3
   },
   "file_extension": ".py",
   "mimetype": "text/x-python",
   "name": "python",
   "nbconvert_exporter": "python",
   "pygments_lexer": "ipython3",
   "version": "3.8.12"
  }
 },
 "nbformat": 4,
 "nbformat_minor": 4
}
